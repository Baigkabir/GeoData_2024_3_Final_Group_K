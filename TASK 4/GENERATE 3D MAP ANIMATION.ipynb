{
 "cells": [
  {
   "cell_type": "code",
   "execution_count": 5,
   "id": "3958bd54",
   "metadata": {},
   "outputs": [
    {
     "name": "stdout",
     "output_type": "stream",
     "text": [
      "Requirement already satisfied: opencv-python in c:\\programdata\\anaconda3\\lib\\site-packages (4.8.1.78)\n",
      "Requirement already satisfied: numpy>=1.19.3 in c:\\programdata\\anaconda3\\lib\\site-packages (from opencv-python) (1.23.5)\n",
      "Note: you may need to restart the kernel to use updated packages.\n"
     ]
    },
    {
     "name": "stderr",
     "output_type": "stream",
     "text": [
      "WARNING: Ignoring invalid distribution -cipy (c:\\programdata\\anaconda3\\lib\\site-packages)\n",
      "WARNING: Ignoring invalid distribution -cipy (c:\\programdata\\anaconda3\\lib\\site-packages)\n",
      "WARNING: Ignoring invalid distribution -cipy (c:\\programdata\\anaconda3\\lib\\site-packages)\n",
      "WARNING: Ignoring invalid distribution -cipy (c:\\programdata\\anaconda3\\lib\\site-packages)\n",
      "WARNING: Ignoring invalid distribution -cipy (c:\\programdata\\anaconda3\\lib\\site-packages)\n",
      "WARNING: Ignoring invalid distribution -cipy (c:\\programdata\\anaconda3\\lib\\site-packages)\n"
     ]
    }
   ],
   "source": [
    "pip install opencv-python"
   ]
  },
  {
   "cell_type": "code",
   "execution_count": 6,
   "id": "400d0405",
   "metadata": {},
   "outputs": [
    {
     "name": "stdout",
     "output_type": "stream",
     "text": [
      "Requirement already satisfied: opencv-python in c:\\programdata\\anaconda3\\lib\\site-packages (4.8.1.78)\n",
      "Requirement already satisfied: imageio in c:\\programdata\\anaconda3\\lib\\site-packages (2.26.0)\n",
      "Requirement already satisfied: numpy>=1.19.3 in c:\\programdata\\anaconda3\\lib\\site-packages (from opencv-python) (1.23.5)\n",
      "Requirement already satisfied: pillow>=8.3.2 in c:\\programdata\\anaconda3\\lib\\site-packages (from imageio) (9.4.0)\n",
      "Note: you may need to restart the kernel to use updated packages.\n"
     ]
    },
    {
     "name": "stderr",
     "output_type": "stream",
     "text": [
      "WARNING: Ignoring invalid distribution -cipy (c:\\programdata\\anaconda3\\lib\\site-packages)\n",
      "WARNING: Ignoring invalid distribution -cipy (c:\\programdata\\anaconda3\\lib\\site-packages)\n",
      "WARNING: Ignoring invalid distribution -cipy (c:\\programdata\\anaconda3\\lib\\site-packages)\n",
      "WARNING: Ignoring invalid distribution -cipy (c:\\programdata\\anaconda3\\lib\\site-packages)\n",
      "WARNING: Ignoring invalid distribution -cipy (c:\\programdata\\anaconda3\\lib\\site-packages)\n",
      "WARNING: Ignoring invalid distribution -cipy (c:\\programdata\\anaconda3\\lib\\site-packages)\n"
     ]
    }
   ],
   "source": [
    "pip install opencv-python imageio"
   ]
  },
  {
   "cell_type": "code",
   "execution_count": 7,
   "id": "c9538e6b",
   "metadata": {},
   "outputs": [
    {
     "name": "stdout",
     "output_type": "stream",
     "text": [
      "MP4 video saved successfully at 3D Map Animation.mp4\n",
      "GIF animation saved successfully at 3D Map Animationn.gif\n"
     ]
    }
   ],
   "source": [
    "import cv2\n",
    "import os\n",
    "import imageio\n",
    "\n",
    "# Define the folder where your frames are stored\n",
    "frames_folder = 'frames' \n",
    "output_video = '3D Map Animation.mp4'  # Path where the mp4 video will be saved\n",
    "output_gif = '3D Map Animationn.gif'  # Path where the .gif animation will be saved\n",
    "\n",
    "# Fetch all the frame files and sort them in the correct order\n",
    "frames = [f for f in sorted(os.listdir(frames_folder)) if f.endswith(('.png', '.jpg'))]\n",
    "\n",
    "# Check if frames are available\n",
    "if len(frames) == 0:\n",
    "    print(\"No frames found in the specified directory.\")\n",
    "    exit()\n",
    "\n",
    "# Get the size of the first frame to set the video resolution\n",
    "first_frame = cv2.imread(os.path.join(frames_folder, frames[0]))\n",
    "height, width, layers = first_frame.shape\n",
    "\n",
    "# 1. Generate .mp4 video using OpenCV\n",
    "fourcc = cv2.VideoWriter_fourcc(*'mp4v')  # Codec for mp4\n",
    "fps = 30  # Frames per second for the output video\n",
    "video = cv2.VideoWriter(output_video, fourcc, fps, (width, height))\n",
    "\n",
    "# List to store frames for .gif\n",
    "gif_frames = []\n",
    "\n",
    "# Iterate over each frame\n",
    "for frame_file in frames:\n",
    "    frame_path = os.path.join(frames_folder, frame_file)\n",
    "    frame = cv2.imread(frame_path)\n",
    "\n",
    "    if frame is None:\n",
    "        print(f\"Could not read frame {frame_file}. Skipping.\")\n",
    "        continue\n",
    "\n",
    "    # Write frame to the video\n",
    "    video.write(frame)\n",
    "\n",
    "    # Convert frame to RGB format (imageio needs RGB format for gif)\n",
    "    frame_rgb = cv2.cvtColor(frame, cv2.COLOR_BGR2RGB)\n",
    "    gif_frames.append(frame_rgb)\n",
    "\n",
    "# Release the video writer for .mp4\n",
    "video.release()\n",
    "cv2.destroyAllWindows()\n",
    "\n",
    "print(f\"MP4 video saved successfully at {output_video}\")\n",
    "\n",
    "# 2. Generate .gif animation using imageio\n",
    "imageio.mimsave(output_gif, gif_frames, fps=fps)\n",
    "print(f\"GIF animation saved successfully at {output_gif}\")\n"
   ]
  },
  {
   "cell_type": "code",
   "execution_count": null,
   "id": "d76691bb",
   "metadata": {},
   "outputs": [],
   "source": []
  }
 ],
 "metadata": {
  "kernelspec": {
   "display_name": "Python 3 (ipykernel)",
   "language": "python",
   "name": "python3"
  },
  "language_info": {
   "codemirror_mode": {
    "name": "ipython",
    "version": 3
   },
   "file_extension": ".py",
   "mimetype": "text/x-python",
   "name": "python",
   "nbconvert_exporter": "python",
   "pygments_lexer": "ipython3",
   "version": "3.10.9"
  }
 },
 "nbformat": 4,
 "nbformat_minor": 5
}
