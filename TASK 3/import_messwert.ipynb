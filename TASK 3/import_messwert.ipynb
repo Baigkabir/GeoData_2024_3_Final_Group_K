{
 "cells": [
  {
   "cell_type": "markdown",
   "metadata": {},
   "source": [
    "# Task 3 : OpenHygrisC Nitrate Data "
   ]
  },
  {
   "cell_type": "markdown",
   "metadata": {},
   "source": [
    "## importing the messwert Table to the Postgres Database"
   ]
  },
  {
   "cell_type": "markdown",
   "metadata": {},
   "source": [
    "The aim of this Notebook is to import the Messwert Table which is provided by LANUV to our postgres Database.\n",
    "\n",
    "first we need follwing pachakges:\n",
    "* Pandas \n",
    "    \n",
    "    Pandas is essentioal to read and manage our data in the data frame.\n",
    "* sqlalchemy:\n",
    " \n",
    " sqlalchemy is essentioal to read from database, write to database, connect to database and so on.\n"
   ]
  },
  {
   "cell_type": "code",
   "execution_count": 3,
   "metadata": {},
   "outputs": [],
   "source": [
    "import pandas as pd\n",
    "import sqlalchemy\n",
    "import credential_temp as  creds "
   ]
  },
  {
   "cell_type": "markdown",
   "metadata": {},
   "source": [
    "## read the Data\n",
    "\n",
    "The name of our CSV file is \"opendata_messwert\" which is avaliable in data folder. "
   ]
  },
  {
   "cell_type": "code",
   "execution_count": 4,
   "metadata": {},
   "outputs": [
    {
     "name": "stdout",
     "output_type": "stream",
     "text": [
      "All CSV files have the same columns.\n"
     ]
    }
   ],
   "source": [
    "import pandas as pd\n",
    "\n",
    "# Define the list of CSV files\n",
    "csv_files = [\"data/OpenHygrisC_gw-chemischer-messwert_1922-1969.csv\", \"data/OpenHygrisC_gw-chemischer-messwert_1970-1989.csv\", \"data/OpenHygrisC_gw-chemischer-messwert_1990-1999.csv\", \"data/OpenHygrisC_gw-chemischer-messwert_2000-2009.csv\", \"data/OpenHygrisC_gw-chemischer-messwert_2010-2019.csv\", \"data/OpenHygrisC_gw-chemischer-messwert_2020-2029.csv\"]\n",
    "\n",
    "# Initialize an empty list to hold column sets\n",
    "columns_list = []\n",
    "\n",
    "# Iterate over the list of files and check their columns\n",
    "for file in csv_files:\n",
    "    df = pd.read_csv(file, nrows=0 ,encoding='ISO-8859-1')  # Only read the header to get the columns\n",
    "    columns_list.append(set(df.columns))\n",
    "\n",
    "# Compare all columns sets to see if they are the same\n",
    "all_columns_same = all(columns == columns_list[0] for columns in columns_list)\n",
    "\n",
    "if all_columns_same:\n",
    "    print(\"All CSV files have the same columns.\")\n",
    "else:\n",
    "    print(\"CSV files have different columns.\")\n",
    "    \n",
    "    # Optionally, display the differences\n",
    "    for i, columns in enumerate(columns_list):\n",
    "        print(f\"Columns in {csv_files[i]}: {columns}\")\n"
   ]
  },
  {
   "cell_type": "code",
   "execution_count": 5,
   "metadata": {},
   "outputs": [
    {
     "name": "stdout",
     "output_type": "stream",
     "text": [
      "Columns in data/OpenHygrisC_gw-chemischer-messwert_1922-1969.csv: ['messstelle_id', 'messstelle_sl_nr', 'datum_pn', 'stoff_nr', 'probengut', 'messergebnis_c', 'messergebnis_hinweis', 'bestimmungsgrenze', 'masseinheit', 'trennverfahren', 'verfahren', 'vor_ort']\n",
      "Columns in data/OpenHygrisC_gw-chemischer-messwert_1970-1989.csv: ['messstelle_id', 'messstelle_sl_nr', 'datum_pn', 'stoff_nr', 'probengut', 'messergebnis_c', 'messergebnis_hinweis', 'bestimmungsgrenze', 'masseinheit', 'trennverfahren', 'verfahren', 'vor_ort']\n",
      "Columns in data/OpenHygrisC_gw-chemischer-messwert_1990-1999.csv: ['messstelle_id', 'messstelle_sl_nr', 'datum_pn', 'stoff_nr', 'probengut', 'messergebnis_c', 'messergebnis_hinweis', 'bestimmungsgrenze', 'masseinheit', 'trennverfahren', 'verfahren', 'vor_ort']\n",
      "Columns in data/OpenHygrisC_gw-chemischer-messwert_2000-2009.csv: ['messstelle_id', 'messstelle_sl_nr', 'datum_pn', 'stoff_nr', 'probengut', 'messergebnis_c', 'messergebnis_hinweis', 'bestimmungsgrenze', 'masseinheit', 'trennverfahren', 'verfahren', 'vor_ort']\n",
      "Columns in data/OpenHygrisC_gw-chemischer-messwert_2010-2019.csv: ['messstelle_id', 'messstelle_sl_nr', 'datum_pn', 'stoff_nr', 'probengut', 'messergebnis_c', 'messergebnis_hinweis', 'bestimmungsgrenze', 'masseinheit', 'trennverfahren', 'verfahren', 'vor_ort']\n",
      "Columns in data/OpenHygrisC_gw-chemischer-messwert_2020-2029.csv: ['messstelle_id', 'messstelle_sl_nr', 'datum_pn', 'stoff_nr', 'probengut', 'messergebnis_c', 'messergebnis_hinweis', 'bestimmungsgrenze', 'masseinheit', 'trennverfahren', 'verfahren', 'vor_ort']\n",
      "          messstelle_id  messstelle_sl_nr    datum_pn  stoff_nr    probengut  \\\n",
      "sl_nr                                                                          \n",
      "9753769        21172109              3528  1965-04-27      1171  Grundwasser   \n",
      "4018047        42018808             10612  1966-04-12      1264  Grundwasser   \n",
      "4018053        42018808             10612  1966-04-12      1561  Grundwasser   \n",
      "4018050        42018808             10612  1966-04-12      1182  Grundwasser   \n",
      "13130505       42018808             10612  1966-04-12      1263  Grundwasser   \n",
      "\n",
      "         messergebnis_c                               messergebnis_hinweis  \\\n",
      "sl_nr                                                                        \n",
      "9753769        <0,10000  Konzentration zu gering zur Bestimmung        ...   \n",
      "4018047        <0,02200  Konzentration zu gering zur Bestimmung        ...   \n",
      "4018053        <0,05000  Konzentration zu gering zur Bestimmung        ...   \n",
      "4018050        <0,05000  Konzentration zu gering zur Bestimmung        ...   \n",
      "13130505       <0,06769  Konzentration zu gering zur Bestimmung        ...   \n",
      "\n",
      "         bestimmungsgrenze masseinheit trennverfahren  \\\n",
      "sl_nr                                                   \n",
      "9753769                NaN        mg/l   Gesamtgehalt   \n",
      "4018047                NaN        mg/l   Gesamtgehalt   \n",
      "4018053                NaN        mg/l   Gesamtgehalt   \n",
      "4018050                NaN        mg/l   Gesamtgehalt   \n",
      "13130505               NaN        mg/l   Gesamtgehalt   \n",
      "\n",
      "                        verfahren vor_ort  \n",
      "sl_nr                                      \n",
      "9753769     DIN 38406-E2 MAI 1983          \n",
      "4018047        DIN EN 1189 (1996)          \n",
      "4018053         DIN EN 903 (1994)          \n",
      "4018050   DIN EN ISO 11885 (1998)          \n",
      "13130505       DIN EN 1189 (1996)          \n"
     ]
    }
   ],
   "source": [
    "import pandas as pd\n",
    "\n",
    "# List of CSV files to read\n",
    "csv_files = [\"data/OpenHygrisC_gw-chemischer-messwert_1922-1969.csv\", \"data/OpenHygrisC_gw-chemischer-messwert_1970-1989.csv\", \"data/OpenHygrisC_gw-chemischer-messwert_1990-1999.csv\", \"data/OpenHygrisC_gw-chemischer-messwert_2000-2009.csv\", \"data/OpenHygrisC_gw-chemischer-messwert_2010-2019.csv\", \"data/OpenHygrisC_gw-chemischer-messwert_2020-2029.csv\"]\n",
    "\n",
    "# Initialize an empty list to store DataFrames\n",
    "dfs = []\n",
    "\n",
    "# Loop over each file, read it, and append to the list\n",
    "for file in csv_files:\n",
    "    df = pd.read_csv(file, sep=\";\", index_col=[\"sl_nr\"], dtype={\"messergebnis_c\": str, \"messergebnis_hinweis\": str}, encoding='ISO-8859-1')\n",
    "    dfs.append(df)\n",
    "    # Print the columns to verify\n",
    "    print(f\"Columns in {file}: {df.columns.tolist()}\")\n",
    "\n",
    "# Concatenate all DataFrames\n",
    "df_qual = pd.concat(dfs, axis=0)\n",
    "\n",
    "# Display the combined DataFrame\n",
    "print(df_qual.head())"
   ]
  },
  {
   "cell_type": "code",
   "execution_count": 6,
   "metadata": {},
   "outputs": [],
   "source": [
    "#data_in_dir = r\"data/\"\n",
    "\n",
    "#gw_quality_fname = r\"OpenHygrisC_gw-chemischer-messwert.csv\"\n",
    "\n",
    "#gw_quality_pfname = data_in_dir + gw_quality_fname"
   ]
  },
  {
   "cell_type": "markdown",
   "metadata": {},
   "source": [
    "Now we need to read our csv files in the pandas data fram\n",
    "##### Don't forget to add the \"delimiter\", normal csv file's delimiter is \",\" but in our case it's \";\", so we need to assign it.\n",
    "\n",
    "Also in the same time, I have assigned the \"str\" type to the two columns. and because \"sl nr\" is unique value then I decided to choose it as an index.\n"
   ]
  },
  {
   "cell_type": "code",
   "execution_count": 7,
   "metadata": {
    "scrolled": true
   },
   "outputs": [],
   "source": [
    "#df_qual = pd.read_csv(gw_quality_pfname, sep = \";\", index_col=[\"sl_nr\"], dtype = {\"messergebnis_c\":str ,\"messergebnis_hinweis\":str },encoding='ISO-8859-1')\n",
    "#df_qual.head()"
   ]
  },
  {
   "cell_type": "markdown",
   "metadata": {},
   "source": [
    "## changing the Data type\n",
    "we need to change some columns's data type. \n",
    "\n",
    " we have three date columns but they are not in Date type, they are just simply object which means string."
   ]
  },
  {
   "cell_type": "code",
   "execution_count": 8,
   "metadata": {},
   "outputs": [
    {
     "data": {
      "text/plain": [
       "messstelle_id            int64\n",
       "messstelle_sl_nr         int64\n",
       "datum_pn                object\n",
       "stoff_nr                 int64\n",
       "probengut               object\n",
       "messergebnis_c          object\n",
       "messergebnis_hinweis    object\n",
       "bestimmungsgrenze       object\n",
       "masseinheit             object\n",
       "trennverfahren          object\n",
       "verfahren               object\n",
       "vor_ort                 object\n",
       "dtype: object"
      ]
     },
     "execution_count": 8,
     "metadata": {},
     "output_type": "execute_result"
    }
   ],
   "source": [
    "df_qual.dtypes"
   ]
  },
  {
   "cell_type": "code",
   "execution_count": 9,
   "metadata": {},
   "outputs": [],
   "source": [
    "df_qual['datum_pn'] = pd.to_datetime(df_qual['datum_pn'], format='%Y-%m-%d')"
   ]
  },
  {
   "cell_type": "code",
   "execution_count": 10,
   "metadata": {},
   "outputs": [
    {
     "data": {
      "text/plain": [
       "messstelle_id                    int64\n",
       "messstelle_sl_nr                 int64\n",
       "datum_pn                datetime64[ns]\n",
       "stoff_nr                         int64\n",
       "probengut                       object\n",
       "messergebnis_c                  object\n",
       "messergebnis_hinweis            object\n",
       "bestimmungsgrenze               object\n",
       "masseinheit                     object\n",
       "trennverfahren                  object\n",
       "verfahren                       object\n",
       "vor_ort                         object\n",
       "dtype: object"
      ]
     },
     "execution_count": 10,
     "metadata": {},
     "output_type": "execute_result"
    }
   ],
   "source": [
    "df_qual.dtypes"
   ]
  },
  {
   "cell_type": "markdown",
   "metadata": {},
   "source": [
    "* Now all the tree columns which were date are in datetime64 type"
   ]
  },
  {
   "cell_type": "markdown",
   "metadata": {},
   "source": [
    "### Create functions\n",
    "\n",
    "Now the most important columns is \"messergebnis_c\" which simply means the result of the measurments. The data type of this columns should be float. But we have probelm. some value in \"messergebnis_c\" starts with < or > and that's why the pandas automatically assign object data type to this column.  First we need to create some functions to check that how many \"messergebnis_c\" consist of < and how many consist of > and how many value of \"messergebnis_c\" are with no greater than and less than sign. "
   ]
  },
  {
   "cell_type": "markdown",
   "metadata": {},
   "source": [
    "* First function: \n",
    "\n",
    " This function is to check that are we able to convert the string to float?"
   ]
  },
  {
   "cell_type": "code",
   "execution_count": 11,
   "metadata": {},
   "outputs": [],
   "source": [
    "# check if string can be converted to float\n",
    "def is_float(element: str) -> bool:\n",
    "    try:\n",
    "        float(element)\n",
    "        return True\n",
    "    except ValueError:\n",
    "        return False"
   ]
  },
  {
   "cell_type": "markdown",
   "metadata": {},
   "source": [
    "* Second function: \n",
    "\n",
    "The function is to check that the str starts with '<' "
   ]
  },
  {
   "cell_type": "code",
   "execution_count": 12,
   "metadata": {},
   "outputs": [],
   "source": [
    "# check if string starts with '<'\n",
    "def is_less(element: str) -> bool:\n",
    "    return element[0] == \"<\" "
   ]
  },
  {
   "cell_type": "markdown",
   "metadata": {},
   "source": [
    "* Third function:\n",
    "\n",
    "The function is to check that the str starts with '>'"
   ]
  },
  {
   "cell_type": "code",
   "execution_count": 13,
   "metadata": {},
   "outputs": [],
   "source": [
    "# check if string starts with '>'\n",
    "def is_greater(element: str) -> bool:\n",
    "    return element[0] == \">\" "
   ]
  },
  {
   "cell_type": "markdown",
   "metadata": {},
   "source": [
    "### Now apply all the three above functions on the \"messergebnis_c\" columns"
   ]
  },
  {
   "cell_type": "code",
   "execution_count": 14,
   "metadata": {},
   "outputs": [
    {
     "name": "stdout",
     "output_type": "stream",
     "text": [
      "CPU times: total: 5.22 s\n",
      "Wall time: 5.65 s\n",
      "CPU times: total: 1.12 s\n",
      "Wall time: 1.14 s\n",
      "CPU times: total: 1.14 s\n",
      "Wall time: 1.15 s\n"
     ]
    }
   ],
   "source": [
    "%time idx_mess_is_float   = df_qual[\"messergebnis_c\"].apply(is_float)\n",
    "#%time idx_mess_not_float  = ~idx_mess_is_float\n",
    "%time idx_mess_is_less    = df_qual[\"messergebnis_c\"].apply(is_less)\n",
    "%time idx_mess_is_greater = df_qual[\"messergebnis_c\"].apply(is_greater)"
   ]
  },
  {
   "cell_type": "markdown",
   "metadata": {},
   "source": [
    "### Now we can see that \"messergebnis_c\" of how many rows are with \"<\" and \">\" or with no sign which means they can simply convert to float with no problem."
   ]
  },
  {
   "cell_type": "code",
   "execution_count": 15,
   "metadata": {},
   "outputs": [
    {
     "data": {
      "text/plain": [
       "(0, 12)"
      ]
     },
     "execution_count": 15,
     "metadata": {},
     "output_type": "execute_result"
    }
   ],
   "source": [
    "# How many can be converted to float with no problem\n",
    "df_qual[idx_mess_is_float].shape"
   ]
  },
  {
   "cell_type": "code",
   "execution_count": 16,
   "metadata": {},
   "outputs": [
    {
     "data": {
      "text/plain": [
       "(2763564, 12)"
      ]
     },
     "execution_count": 16,
     "metadata": {},
     "output_type": "execute_result"
    }
   ],
   "source": [
    "# How many consist of < \n",
    "df_qual[idx_mess_is_less].shape"
   ]
  },
  {
   "cell_type": "code",
   "execution_count": 17,
   "metadata": {},
   "outputs": [
    {
     "data": {
      "text/plain": [
       "(32, 12)"
      ]
     },
     "execution_count": 17,
     "metadata": {},
     "output_type": "execute_result"
    }
   ],
   "source": [
    "# how many consist of >\n",
    "df_qual[idx_mess_is_greater].shape"
   ]
  },
  {
   "cell_type": "markdown",
   "metadata": {},
   "source": [
    "## check again\n",
    "\n",
    "Now is the time to check again all the value of \"messergebnis_c\" to be sure that there is no other probelm"
   ]
  },
  {
   "cell_type": "code",
   "execution_count": 18,
   "metadata": {},
   "outputs": [],
   "source": [
    "# Recalculate the boolean masks\n",
    "idx_mess_is_less = df_qual['messergebnis_c'].str.contains('<', regex=False)\n",
    "idx_mess_is_greater = df_qual['messergebnis_c'].str.contains('>', regex=False)\n",
    "idx_mess_is_float = df_qual['messergebnis_c'].apply(lambda x: pd.to_numeric(x, errors='coerce')).notnull()\n"
   ]
  },
  {
   "cell_type": "code",
   "execution_count": 19,
   "metadata": {},
   "outputs": [
    {
     "name": "stdout",
     "output_type": "stream",
     "text": [
      "         messergebnis_c\n",
      "sl_nr                  \n",
      "4018042         3,50000\n",
      "4018043         6,80000\n",
      "4018044        85,00000\n",
      "4018045         0,23256\n",
      "4018046         0,03049\n",
      "...                 ...\n",
      "20639773        0,28000\n",
      "20639295      702,00000\n",
      "20639275        0,00008\n",
      "20920714        0,72000\n",
      "20640541        6,50000\n",
      "\n",
      "[2343618 rows x 1 columns]\n"
     ]
    }
   ],
   "source": [
    "# Identify rows that are causing the issue\n",
    "problematic_rows = df_qual[(~idx_mess_is_float) & ~(idx_mess_is_less | idx_mess_is_greater)]\n",
    "\n",
    "# Display the problematic rows\n",
    "print(problematic_rows[['messergebnis_c']])\n"
   ]
  },
  {
   "cell_type": "code",
   "execution_count": 20,
   "metadata": {},
   "outputs": [],
   "source": [
    "df_qual['messergebnis_c'] = df_qual['messergebnis_c'].str.strip()\n",
    "df_qual['messergebnis_c'] = df_qual['messergebnis_c'].str.replace(r'[^\\x20-\\x7E]', '', regex=True)\n"
   ]
  },
  {
   "cell_type": "code",
   "execution_count": 21,
   "metadata": {},
   "outputs": [
    {
     "name": "stdout",
     "output_type": "stream",
     "text": [
      "['<0,10000' '<0,02200' '<0,05000' ... '2.393,00000' '1.348,00000'\n",
      " '2.424,00000']\n"
     ]
    }
   ],
   "source": [
    "unique_values = df_qual['messergebnis_c'].unique()\n",
    "print(unique_values)\n"
   ]
  },
  {
   "cell_type": "code",
   "execution_count": 22,
   "metadata": {},
   "outputs": [],
   "source": [
    "# Remove all characters except digits, decimal points, '<', '>'\n",
    "df_qual['messergebnis_c'] = df_qual['messergebnis_c'].str.replace(r'[^\\d.<>=]', '', regex=True)\n"
   ]
  },
  {
   "cell_type": "code",
   "execution_count": 23,
   "metadata": {},
   "outputs": [],
   "source": [
    "df_qual['messergebnis_c'] = df_qual['messergebnis_c'].str.replace(',', '.', regex=False)"
   ]
  },
  {
   "cell_type": "code",
   "execution_count": 24,
   "metadata": {},
   "outputs": [],
   "source": [
    "idx_mess_is_less = df_qual['messergebnis_c'].str.contains('<', regex=False)\n",
    "idx_mess_is_greater = df_qual['messergebnis_c'].str.contains('>', regex=False)\n",
    "idx_mess_is_float = df_qual['messergebnis_c'].apply(lambda x: pd.to_numeric(x, errors='coerce')).notnull()"
   ]
  },
  {
   "cell_type": "code",
   "execution_count": 25,
   "metadata": {},
   "outputs": [],
   "source": [
    "assert idx_mess_is_float.sum() + (~idx_mess_is_float).sum() == df_qual.shape[0], \"mess has either to be float or not float\""
   ]
  },
  {
   "cell_type": "code",
   "execution_count": 26,
   "metadata": {},
   "outputs": [],
   "source": [
    "# ((idx_mess_is_less | idx_mess_is_greater) == idx_mess_not_float).value_counts()\n",
    "assert ((idx_mess_is_less | idx_mess_is_greater) != (~idx_mess_is_float)).sum() == 0, \"'not float' supposed to come from '<' or '>' but nothing else.\""
   ]
  },
  {
   "cell_type": "code",
   "execution_count": 27,
   "metadata": {},
   "outputs": [
    {
     "name": "stdout",
     "output_type": "stream",
     "text": [
      "Empty DataFrame\n",
      "Columns: [messstelle_id, messstelle_sl_nr, datum_pn, stoff_nr, probengut, messergebnis_c, messergebnis_hinweis, bestimmungsgrenze, masseinheit, trennverfahren, verfahren, vor_ort]\n",
      "Index: []\n"
     ]
    }
   ],
   "source": [
    "# Print records which are neither less nor greater nor float -> should be empty data frame\n",
    "assert df_qual[~idx_mess_is_less & ~idx_mess_is_greater & ~idx_mess_is_float].shape[0] == 0\n",
    "print(df_qual[~idx_mess_is_less & ~idx_mess_is_greater & ~idx_mess_is_float])"
   ]
  },
  {
   "cell_type": "markdown",
   "metadata": {},
   "source": [
    "## Create a new column\n",
    "\n",
    "In this step, we want to create a new column with the name of \"messergebnis_cm\". The value in this column is based on \"messergebnis_c\". There are three diffrent values in this column.\n",
    "\n",
    "* = : Which means that the value in messergebnis_c has no sign (< or >)\n",
    "* > : Which means that the value in messergebnis_c starts with sign of >\n",
    "* < : Which means that the value in messergebnis_c starts with sogn of <"
   ]
  },
  {
   "cell_type": "code",
   "execution_count": 28,
   "metadata": {},
   "outputs": [],
   "source": [
    "df_qual.loc[idx_mess_is_float, \"messergebnis_cm\"] = \"=\"\n",
    "df_qual.loc[idx_mess_is_less, \"messergebnis_cm\"] = \"<\"\n",
    "df_qual.loc[idx_mess_is_greater, \"messergebnis_cm\"] = \">\""
   ]
  },
  {
   "cell_type": "markdown",
   "metadata": {},
   "source": [
    "## replace the signs with noting\n",
    "\n",
    "Now is the time to delete the < and > from the biggining of each cell. but acctually we have these value in another column (messergebnis_cm)"
   ]
  },
  {
   "cell_type": "code",
   "execution_count": 29,
   "metadata": {},
   "outputs": [],
   "source": [
    "df_qual.messergebnis_c = df_qual.messergebnis_c.replace({'>':''}, regex=True)"
   ]
  },
  {
   "cell_type": "code",
   "execution_count": 30,
   "metadata": {},
   "outputs": [],
   "source": [
    "df_qual.messergebnis_c = df_qual.messergebnis_c.replace({'<':''}, regex=True)"
   ]
  },
  {
   "cell_type": "markdown",
   "metadata": {},
   "source": [
    "## check the datafram again"
   ]
  },
  {
   "cell_type": "code",
   "execution_count": 31,
   "metadata": {
    "scrolled": true
   },
   "outputs": [
    {
     "data": {
      "text/html": [
       "<div>\n",
       "<style scoped>\n",
       "    .dataframe tbody tr th:only-of-type {\n",
       "        vertical-align: middle;\n",
       "    }\n",
       "\n",
       "    .dataframe tbody tr th {\n",
       "        vertical-align: top;\n",
       "    }\n",
       "\n",
       "    .dataframe thead th {\n",
       "        text-align: right;\n",
       "    }\n",
       "</style>\n",
       "<table border=\"1\" class=\"dataframe\">\n",
       "  <thead>\n",
       "    <tr style=\"text-align: right;\">\n",
       "      <th></th>\n",
       "      <th>messstelle_id</th>\n",
       "      <th>messstelle_sl_nr</th>\n",
       "      <th>datum_pn</th>\n",
       "      <th>stoff_nr</th>\n",
       "      <th>probengut</th>\n",
       "      <th>messergebnis_c</th>\n",
       "      <th>messergebnis_hinweis</th>\n",
       "      <th>bestimmungsgrenze</th>\n",
       "      <th>masseinheit</th>\n",
       "      <th>trennverfahren</th>\n",
       "      <th>verfahren</th>\n",
       "      <th>vor_ort</th>\n",
       "      <th>messergebnis_cm</th>\n",
       "    </tr>\n",
       "    <tr>\n",
       "      <th>sl_nr</th>\n",
       "      <th></th>\n",
       "      <th></th>\n",
       "      <th></th>\n",
       "      <th></th>\n",
       "      <th></th>\n",
       "      <th></th>\n",
       "      <th></th>\n",
       "      <th></th>\n",
       "      <th></th>\n",
       "      <th></th>\n",
       "      <th></th>\n",
       "      <th></th>\n",
       "      <th></th>\n",
       "    </tr>\n",
       "  </thead>\n",
       "  <tbody>\n",
       "    <tr>\n",
       "      <th>9753769</th>\n",
       "      <td>21172109</td>\n",
       "      <td>3528</td>\n",
       "      <td>1965-04-27</td>\n",
       "      <td>1171</td>\n",
       "      <td>Grundwasser</td>\n",
       "      <td>010000</td>\n",
       "      <td>Konzentration zu gering zur Bestimmung        ...</td>\n",
       "      <td>NaN</td>\n",
       "      <td>mg/l</td>\n",
       "      <td>Gesamtgehalt</td>\n",
       "      <td>DIN 38406-E2 MAI 1983</td>\n",
       "      <td></td>\n",
       "      <td>&lt;</td>\n",
       "    </tr>\n",
       "    <tr>\n",
       "      <th>4018047</th>\n",
       "      <td>42018808</td>\n",
       "      <td>10612</td>\n",
       "      <td>1966-04-12</td>\n",
       "      <td>1264</td>\n",
       "      <td>Grundwasser</td>\n",
       "      <td>002200</td>\n",
       "      <td>Konzentration zu gering zur Bestimmung        ...</td>\n",
       "      <td>NaN</td>\n",
       "      <td>mg/l</td>\n",
       "      <td>Gesamtgehalt</td>\n",
       "      <td>DIN EN 1189 (1996)</td>\n",
       "      <td></td>\n",
       "      <td>&lt;</td>\n",
       "    </tr>\n",
       "    <tr>\n",
       "      <th>4018053</th>\n",
       "      <td>42018808</td>\n",
       "      <td>10612</td>\n",
       "      <td>1966-04-12</td>\n",
       "      <td>1561</td>\n",
       "      <td>Grundwasser</td>\n",
       "      <td>005000</td>\n",
       "      <td>Konzentration zu gering zur Bestimmung        ...</td>\n",
       "      <td>NaN</td>\n",
       "      <td>mg/l</td>\n",
       "      <td>Gesamtgehalt</td>\n",
       "      <td>DIN EN 903 (1994)</td>\n",
       "      <td></td>\n",
       "      <td>&lt;</td>\n",
       "    </tr>\n",
       "    <tr>\n",
       "      <th>4018050</th>\n",
       "      <td>42018808</td>\n",
       "      <td>10612</td>\n",
       "      <td>1966-04-12</td>\n",
       "      <td>1182</td>\n",
       "      <td>Grundwasser</td>\n",
       "      <td>005000</td>\n",
       "      <td>Konzentration zu gering zur Bestimmung        ...</td>\n",
       "      <td>NaN</td>\n",
       "      <td>mg/l</td>\n",
       "      <td>Gesamtgehalt</td>\n",
       "      <td>DIN EN ISO 11885 (1998)</td>\n",
       "      <td></td>\n",
       "      <td>&lt;</td>\n",
       "    </tr>\n",
       "    <tr>\n",
       "      <th>13130505</th>\n",
       "      <td>42018808</td>\n",
       "      <td>10612</td>\n",
       "      <td>1966-04-12</td>\n",
       "      <td>1263</td>\n",
       "      <td>Grundwasser</td>\n",
       "      <td>006769</td>\n",
       "      <td>Konzentration zu gering zur Bestimmung        ...</td>\n",
       "      <td>NaN</td>\n",
       "      <td>mg/l</td>\n",
       "      <td>Gesamtgehalt</td>\n",
       "      <td>DIN EN 1189 (1996)</td>\n",
       "      <td></td>\n",
       "      <td>&lt;</td>\n",
       "    </tr>\n",
       "    <tr>\n",
       "      <th>...</th>\n",
       "      <td>...</td>\n",
       "      <td>...</td>\n",
       "      <td>...</td>\n",
       "      <td>...</td>\n",
       "      <td>...</td>\n",
       "      <td>...</td>\n",
       "      <td>...</td>\n",
       "      <td>...</td>\n",
       "      <td>...</td>\n",
       "      <td>...</td>\n",
       "      <td>...</td>\n",
       "      <td>...</td>\n",
       "      <td>...</td>\n",
       "    </tr>\n",
       "    <tr>\n",
       "      <th>20639785</th>\n",
       "      <td>60220909</td>\n",
       "      <td>13063</td>\n",
       "      <td>2022-06-30</td>\n",
       "      <td>4393</td>\n",
       "      <td>Grundwasser</td>\n",
       "      <td>005000</td>\n",
       "      <td>Konzentration zu gering zur Bestimmung        ...</td>\n",
       "      <td>0,05000</td>\n",
       "      <td>µg/l</td>\n",
       "      <td>Gesamtgehalt</td>\n",
       "      <td>Direkt, LC-MS-MS - VS - FY0 - a</td>\n",
       "      <td></td>\n",
       "      <td>&lt;</td>\n",
       "    </tr>\n",
       "    <tr>\n",
       "      <th>20640175</th>\n",
       "      <td>60220909</td>\n",
       "      <td>13063</td>\n",
       "      <td>2022-06-30</td>\n",
       "      <td>4099</td>\n",
       "      <td>Grundwasser</td>\n",
       "      <td>005000</td>\n",
       "      <td>Konzentration zu gering zur Bestimmung        ...</td>\n",
       "      <td>0,05000</td>\n",
       "      <td>µg/l</td>\n",
       "      <td>Gesamtgehalt</td>\n",
       "      <td>Direkt, LC-MS-MS - VS - FY0 - a</td>\n",
       "      <td></td>\n",
       "      <td>&lt;</td>\n",
       "    </tr>\n",
       "    <tr>\n",
       "      <th>20640193</th>\n",
       "      <td>60220909</td>\n",
       "      <td>13063</td>\n",
       "      <td>2022-06-30</td>\n",
       "      <td>4210</td>\n",
       "      <td>Grundwasser</td>\n",
       "      <td>002500</td>\n",
       "      <td>Konzentration zu gering zur Bestimmung        ...</td>\n",
       "      <td>0,02500</td>\n",
       "      <td>µg/l</td>\n",
       "      <td>Gesamtgehalt</td>\n",
       "      <td>DIN EN ISO 21676 - DO - F47 -1</td>\n",
       "      <td></td>\n",
       "      <td>&lt;</td>\n",
       "    </tr>\n",
       "    <tr>\n",
       "      <th>20640541</th>\n",
       "      <td>60220909</td>\n",
       "      <td>13063</td>\n",
       "      <td>2022-06-30</td>\n",
       "      <td>1061</td>\n",
       "      <td>Grundwasser</td>\n",
       "      <td>650000</td>\n",
       "      <td>...</td>\n",
       "      <td>NaN</td>\n",
       "      <td>-</td>\n",
       "      <td>Gesamtgehalt</td>\n",
       "      <td>DIN EN ISO 10523 - DO - C05 - 1</td>\n",
       "      <td>ja</td>\n",
       "      <td>=</td>\n",
       "    </tr>\n",
       "    <tr>\n",
       "      <th>20640545</th>\n",
       "      <td>60220909</td>\n",
       "      <td>13063</td>\n",
       "      <td>2022-06-30</td>\n",
       "      <td>2605</td>\n",
       "      <td>Grundwasser</td>\n",
       "      <td>100000</td>\n",
       "      <td>Konzentration zu gering zur Bestimmung        ...</td>\n",
       "      <td>1,00000</td>\n",
       "      <td>µg/l</td>\n",
       "      <td>Gesamtgehalt</td>\n",
       "      <td>DIN EN ISO 16588 - DO - P10 - 1</td>\n",
       "      <td></td>\n",
       "      <td>&lt;</td>\n",
       "    </tr>\n",
       "  </tbody>\n",
       "</table>\n",
       "<p>5107214 rows × 13 columns</p>\n",
       "</div>"
      ],
      "text/plain": [
       "          messstelle_id  messstelle_sl_nr   datum_pn  stoff_nr    probengut  \\\n",
       "sl_nr                                                                         \n",
       "9753769        21172109              3528 1965-04-27      1171  Grundwasser   \n",
       "4018047        42018808             10612 1966-04-12      1264  Grundwasser   \n",
       "4018053        42018808             10612 1966-04-12      1561  Grundwasser   \n",
       "4018050        42018808             10612 1966-04-12      1182  Grundwasser   \n",
       "13130505       42018808             10612 1966-04-12      1263  Grundwasser   \n",
       "...                 ...               ...        ...       ...          ...   \n",
       "20639785       60220909             13063 2022-06-30      4393  Grundwasser   \n",
       "20640175       60220909             13063 2022-06-30      4099  Grundwasser   \n",
       "20640193       60220909             13063 2022-06-30      4210  Grundwasser   \n",
       "20640541       60220909             13063 2022-06-30      1061  Grundwasser   \n",
       "20640545       60220909             13063 2022-06-30      2605  Grundwasser   \n",
       "\n",
       "         messergebnis_c                               messergebnis_hinweis  \\\n",
       "sl_nr                                                                        \n",
       "9753769          010000  Konzentration zu gering zur Bestimmung        ...   \n",
       "4018047          002200  Konzentration zu gering zur Bestimmung        ...   \n",
       "4018053          005000  Konzentration zu gering zur Bestimmung        ...   \n",
       "4018050          005000  Konzentration zu gering zur Bestimmung        ...   \n",
       "13130505         006769  Konzentration zu gering zur Bestimmung        ...   \n",
       "...                 ...                                                ...   \n",
       "20639785         005000  Konzentration zu gering zur Bestimmung        ...   \n",
       "20640175         005000  Konzentration zu gering zur Bestimmung        ...   \n",
       "20640193         002500  Konzentration zu gering zur Bestimmung        ...   \n",
       "20640541         650000                                                ...   \n",
       "20640545         100000  Konzentration zu gering zur Bestimmung        ...   \n",
       "\n",
       "         bestimmungsgrenze masseinheit trennverfahren  \\\n",
       "sl_nr                                                   \n",
       "9753769                NaN        mg/l   Gesamtgehalt   \n",
       "4018047                NaN        mg/l   Gesamtgehalt   \n",
       "4018053                NaN        mg/l   Gesamtgehalt   \n",
       "4018050                NaN        mg/l   Gesamtgehalt   \n",
       "13130505               NaN        mg/l   Gesamtgehalt   \n",
       "...                    ...         ...            ...   \n",
       "20639785           0,05000        µg/l   Gesamtgehalt   \n",
       "20640175           0,05000        µg/l   Gesamtgehalt   \n",
       "20640193           0,02500        µg/l   Gesamtgehalt   \n",
       "20640541               NaN           -   Gesamtgehalt   \n",
       "20640545           1,00000        µg/l   Gesamtgehalt   \n",
       "\n",
       "                                verfahren vor_ort messergebnis_cm  \n",
       "sl_nr                                                              \n",
       "9753769             DIN 38406-E2 MAI 1983                       <  \n",
       "4018047                DIN EN 1189 (1996)                       <  \n",
       "4018053                 DIN EN 903 (1994)                       <  \n",
       "4018050           DIN EN ISO 11885 (1998)                       <  \n",
       "13130505               DIN EN 1189 (1996)                       <  \n",
       "...                                   ...     ...             ...  \n",
       "20639785  Direkt, LC-MS-MS - VS - FY0 - a                       <  \n",
       "20640175  Direkt, LC-MS-MS - VS - FY0 - a                       <  \n",
       "20640193   DIN EN ISO 21676 - DO - F47 -1                       <  \n",
       "20640541  DIN EN ISO 10523 - DO - C05 - 1      ja               =  \n",
       "20640545  DIN EN ISO 16588 - DO - P10 - 1                       <  \n",
       "\n",
       "[5107214 rows x 13 columns]"
      ]
     },
     "execution_count": 31,
     "metadata": {},
     "output_type": "execute_result"
    }
   ],
   "source": [
    "df_qual"
   ]
  },
  {
   "cell_type": "markdown",
   "metadata": {},
   "source": [
    "## converting messergebnis_c to float\n",
    "\n",
    "Finally we are in the stage that we can now convert the messergebnis_c to float"
   ]
  },
  {
   "cell_type": "code",
   "execution_count": 32,
   "metadata": {},
   "outputs": [],
   "source": [
    " df_qual.messergebnis_c = df_qual.messergebnis_c.astype(float)"
   ]
  },
  {
   "cell_type": "code",
   "execution_count": 33,
   "metadata": {},
   "outputs": [
    {
     "data": {
      "text/plain": [
       "messstelle_id                    int64\n",
       "messstelle_sl_nr                 int64\n",
       "datum_pn                datetime64[ns]\n",
       "stoff_nr                         int64\n",
       "probengut                       object\n",
       "messergebnis_c                 float64\n",
       "messergebnis_hinweis            object\n",
       "bestimmungsgrenze               object\n",
       "masseinheit                     object\n",
       "trennverfahren                  object\n",
       "verfahren                       object\n",
       "vor_ort                         object\n",
       "messergebnis_cm                 object\n",
       "dtype: object"
      ]
     },
     "execution_count": 33,
     "metadata": {},
     "output_type": "execute_result"
    }
   ],
   "source": [
    "df_qual.dtypes"
   ]
  },
  {
   "cell_type": "markdown",
   "metadata": {},
   "source": [
    "## Eerything is fine now\n",
    "\n",
    "As you can simply see above that all the columns's type is what we want. \n",
    "\n",
    "* messergebnis_c is now in float\n",
    "* datum_pn is now in datetime64\n"
   ]
  },
  {
   "cell_type": "markdown",
   "metadata": {},
   "source": [
    "## once again check externally to be 100% sure"
   ]
  },
  {
   "cell_type": "code",
   "execution_count": 34,
   "metadata": {},
   "outputs": [],
   "source": [
    "# # write on csv to check externally\n",
    "# df_qual.to_csv(\"test.csv\")"
   ]
  },
  {
   "cell_type": "markdown",
   "metadata": {},
   "source": [
    "## Import to Database\n",
    "\n",
    "Now is the time to import our datafram to database with no problem. \n",
    "\n",
    "First we need to connect  to our database. and then import the datafram. \n",
    "\n",
    "In this case, I have imported the data to schema \"hygrisc\" which has been already created in the PGadmin by myself, but you can import to your Schema."
   ]
  },
  {
   "cell_type": "code",
   "execution_count": 35,
   "metadata": {},
   "outputs": [],
   "source": [
    "# connect to out credential file\n",
    "\n",
    "postgresurl = creds.URL\n"
   ]
  },
  {
   "cell_type": "code",
   "execution_count": 36,
   "metadata": {},
   "outputs": [],
   "source": [
    "# replace your database link in below\n",
    "engine = sqlalchemy.create_engine(postgresurl)"
   ]
  },
  {
   "cell_type": "code",
   "execution_count": 37,
   "metadata": {},
   "outputs": [],
   "source": [
    "chunk_size = 50000  # Adjust chunk size based on your system's memory\n",
    "for start in range(0, len(df_qual), chunk_size):\n",
    "    end = min(start + chunk_size, len(df_qual))\n",
    "    df_chunk = df_qual.iloc[start:end]\n",
    "    df_chunk.to_sql(con=engine, name=\"messwert\", schema=\"hygrisc\", if_exists=\"append\", index=False)\n"
   ]
  },
  {
   "cell_type": "code",
   "execution_count": null,
   "metadata": {},
   "outputs": [],
   "source": [
    "#%time df_qual.to_sql(con=engine, name=\"messwert\", schema=\"hygrisc\", if_exists=\"replace\", index=False)"
   ]
  },
  {
   "cell_type": "code",
   "execution_count": 38,
   "metadata": {},
   "outputs": [
    {
     "name": "stdout",
     "output_type": "stream",
     "text": [
      "<class 'pandas.core.frame.DataFrame'>\n",
      "Int64Index: 5107214 entries, 9753769 to 20640545\n",
      "Data columns (total 13 columns):\n",
      " #   Column                Dtype         \n",
      "---  ------                -----         \n",
      " 0   messstelle_id         int64         \n",
      " 1   messstelle_sl_nr      int64         \n",
      " 2   datum_pn              datetime64[ns]\n",
      " 3   stoff_nr              int64         \n",
      " 4   probengut             object        \n",
      " 5   messergebnis_c        float64       \n",
      " 6   messergebnis_hinweis  object        \n",
      " 7   bestimmungsgrenze     object        \n",
      " 8   masseinheit           object        \n",
      " 9   trennverfahren        object        \n",
      " 10  verfahren             object        \n",
      " 11  vor_ort               object        \n",
      " 12  messergebnis_cm       object        \n",
      "dtypes: datetime64[ns](1), float64(1), int64(3), object(8)\n",
      "memory usage: 545.5+ MB\n"
     ]
    }
   ],
   "source": [
    "df_qual.info()"
   ]
  },
  {
   "cell_type": "code",
   "execution_count": 39,
   "metadata": {
    "scrolled": false
   },
   "outputs": [
    {
     "data": {
      "text/html": [
       "<div>\n",
       "<style scoped>\n",
       "    .dataframe tbody tr th:only-of-type {\n",
       "        vertical-align: middle;\n",
       "    }\n",
       "\n",
       "    .dataframe tbody tr th {\n",
       "        vertical-align: top;\n",
       "    }\n",
       "\n",
       "    .dataframe thead th {\n",
       "        text-align: right;\n",
       "    }\n",
       "</style>\n",
       "<table border=\"1\" class=\"dataframe\">\n",
       "  <thead>\n",
       "    <tr style=\"text-align: right;\">\n",
       "      <th></th>\n",
       "      <th>messstelle_id</th>\n",
       "      <th>messstelle_sl_nr</th>\n",
       "      <th>datum_pn</th>\n",
       "      <th>stoff_nr</th>\n",
       "      <th>probengut</th>\n",
       "      <th>messergebnis_c</th>\n",
       "      <th>messergebnis_hinweis</th>\n",
       "      <th>bestimmungsgrenze</th>\n",
       "      <th>masseinheit</th>\n",
       "      <th>trennverfahren</th>\n",
       "      <th>verfahren</th>\n",
       "      <th>vor_ort</th>\n",
       "      <th>messergebnis_cm</th>\n",
       "    </tr>\n",
       "    <tr>\n",
       "      <th>sl_nr</th>\n",
       "      <th></th>\n",
       "      <th></th>\n",
       "      <th></th>\n",
       "      <th></th>\n",
       "      <th></th>\n",
       "      <th></th>\n",
       "      <th></th>\n",
       "      <th></th>\n",
       "      <th></th>\n",
       "      <th></th>\n",
       "      <th></th>\n",
       "      <th></th>\n",
       "      <th></th>\n",
       "    </tr>\n",
       "  </thead>\n",
       "  <tbody>\n",
       "    <tr>\n",
       "      <th>9753769</th>\n",
       "      <td>21172109</td>\n",
       "      <td>3528</td>\n",
       "      <td>1965-04-27</td>\n",
       "      <td>1171</td>\n",
       "      <td>Grundwasser</td>\n",
       "      <td>10000.0</td>\n",
       "      <td>Konzentration zu gering zur Bestimmung        ...</td>\n",
       "      <td>NaN</td>\n",
       "      <td>mg/l</td>\n",
       "      <td>Gesamtgehalt</td>\n",
       "      <td>DIN 38406-E2 MAI 1983</td>\n",
       "      <td></td>\n",
       "      <td>&lt;</td>\n",
       "    </tr>\n",
       "    <tr>\n",
       "      <th>4018047</th>\n",
       "      <td>42018808</td>\n",
       "      <td>10612</td>\n",
       "      <td>1966-04-12</td>\n",
       "      <td>1264</td>\n",
       "      <td>Grundwasser</td>\n",
       "      <td>2200.0</td>\n",
       "      <td>Konzentration zu gering zur Bestimmung        ...</td>\n",
       "      <td>NaN</td>\n",
       "      <td>mg/l</td>\n",
       "      <td>Gesamtgehalt</td>\n",
       "      <td>DIN EN 1189 (1996)</td>\n",
       "      <td></td>\n",
       "      <td>&lt;</td>\n",
       "    </tr>\n",
       "    <tr>\n",
       "      <th>4018053</th>\n",
       "      <td>42018808</td>\n",
       "      <td>10612</td>\n",
       "      <td>1966-04-12</td>\n",
       "      <td>1561</td>\n",
       "      <td>Grundwasser</td>\n",
       "      <td>5000.0</td>\n",
       "      <td>Konzentration zu gering zur Bestimmung        ...</td>\n",
       "      <td>NaN</td>\n",
       "      <td>mg/l</td>\n",
       "      <td>Gesamtgehalt</td>\n",
       "      <td>DIN EN 903 (1994)</td>\n",
       "      <td></td>\n",
       "      <td>&lt;</td>\n",
       "    </tr>\n",
       "    <tr>\n",
       "      <th>4018050</th>\n",
       "      <td>42018808</td>\n",
       "      <td>10612</td>\n",
       "      <td>1966-04-12</td>\n",
       "      <td>1182</td>\n",
       "      <td>Grundwasser</td>\n",
       "      <td>5000.0</td>\n",
       "      <td>Konzentration zu gering zur Bestimmung        ...</td>\n",
       "      <td>NaN</td>\n",
       "      <td>mg/l</td>\n",
       "      <td>Gesamtgehalt</td>\n",
       "      <td>DIN EN ISO 11885 (1998)</td>\n",
       "      <td></td>\n",
       "      <td>&lt;</td>\n",
       "    </tr>\n",
       "    <tr>\n",
       "      <th>13130505</th>\n",
       "      <td>42018808</td>\n",
       "      <td>10612</td>\n",
       "      <td>1966-04-12</td>\n",
       "      <td>1263</td>\n",
       "      <td>Grundwasser</td>\n",
       "      <td>6769.0</td>\n",
       "      <td>Konzentration zu gering zur Bestimmung        ...</td>\n",
       "      <td>NaN</td>\n",
       "      <td>mg/l</td>\n",
       "      <td>Gesamtgehalt</td>\n",
       "      <td>DIN EN 1189 (1996)</td>\n",
       "      <td></td>\n",
       "      <td>&lt;</td>\n",
       "    </tr>\n",
       "  </tbody>\n",
       "</table>\n",
       "</div>"
      ],
      "text/plain": [
       "          messstelle_id  messstelle_sl_nr   datum_pn  stoff_nr    probengut  \\\n",
       "sl_nr                                                                         \n",
       "9753769        21172109              3528 1965-04-27      1171  Grundwasser   \n",
       "4018047        42018808             10612 1966-04-12      1264  Grundwasser   \n",
       "4018053        42018808             10612 1966-04-12      1561  Grundwasser   \n",
       "4018050        42018808             10612 1966-04-12      1182  Grundwasser   \n",
       "13130505       42018808             10612 1966-04-12      1263  Grundwasser   \n",
       "\n",
       "          messergebnis_c                               messergebnis_hinweis  \\\n",
       "sl_nr                                                                         \n",
       "9753769          10000.0  Konzentration zu gering zur Bestimmung        ...   \n",
       "4018047           2200.0  Konzentration zu gering zur Bestimmung        ...   \n",
       "4018053           5000.0  Konzentration zu gering zur Bestimmung        ...   \n",
       "4018050           5000.0  Konzentration zu gering zur Bestimmung        ...   \n",
       "13130505          6769.0  Konzentration zu gering zur Bestimmung        ...   \n",
       "\n",
       "         bestimmungsgrenze masseinheit trennverfahren  \\\n",
       "sl_nr                                                   \n",
       "9753769                NaN        mg/l   Gesamtgehalt   \n",
       "4018047                NaN        mg/l   Gesamtgehalt   \n",
       "4018053                NaN        mg/l   Gesamtgehalt   \n",
       "4018050                NaN        mg/l   Gesamtgehalt   \n",
       "13130505               NaN        mg/l   Gesamtgehalt   \n",
       "\n",
       "                        verfahren vor_ort messergebnis_cm  \n",
       "sl_nr                                                      \n",
       "9753769     DIN 38406-E2 MAI 1983                       <  \n",
       "4018047        DIN EN 1189 (1996)                       <  \n",
       "4018053         DIN EN 903 (1994)                       <  \n",
       "4018050   DIN EN ISO 11885 (1998)                       <  \n",
       "13130505       DIN EN 1189 (1996)                       <  "
      ]
     },
     "execution_count": 39,
     "metadata": {},
     "output_type": "execute_result"
    }
   ],
   "source": [
    "df_qual.head()"
   ]
  },
  {
   "cell_type": "markdown",
   "metadata": {},
   "source": [
    "# Finish !\n",
    "## Good Luck, You are doing well"
   ]
  },
  {
   "cell_type": "code",
   "execution_count": 87,
   "metadata": {},
   "outputs": [
    {
     "name": "stdout",
     "output_type": "stream",
     "text": [
      "Error: name 'cursor' is not defined\n"
     ]
    }
   ],
   "source": [
    "# SQL command to drop the table\n",
    "drop_table_query = \"DROP TABLE IF EXISTS messwert;\"\n",
    "\n",
    "try:\n",
    "    # Execute the command to drop the table\n",
    "    cursor.execute(drop_table_query)\n",
    "    conn.commit()\n",
    "    print(f\"Table 'messwert' deleted successfully.\")\n",
    "\n",
    "except Exception as error:\n",
    "    print(f\"Error: {error}\")"
   ]
  },
  {
   "cell_type": "code",
   "execution_count": null,
   "metadata": {},
   "outputs": [],
   "source": []
  }
 ],
 "metadata": {
  "kernelspec": {
   "display_name": "Python 3 (ipykernel)",
   "language": "python",
   "name": "python3"
  },
  "language_info": {
   "codemirror_mode": {
    "name": "ipython",
    "version": 3
   },
   "file_extension": ".py",
   "mimetype": "text/x-python",
   "name": "python",
   "nbconvert_exporter": "python",
   "pygments_lexer": "ipython3",
   "version": "3.10.9"
  }
 },
 "nbformat": 4,
 "nbformat_minor": 4
}
