{
 "cells": [
  {
   "cell_type": "markdown",
   "id": "6c2a811a",
   "metadata": {},
   "source": [
    "# Task 3 : OpenHygrisC Nitrate Data "
   ]
  },
  {
   "cell_type": "code",
   "execution_count": 13,
   "id": "ead01c14",
   "metadata": {},
   "outputs": [],
   "source": [
    "import pandas as pd\n",
    "import psycopg2\n",
    "import credential_temp as  creds \n",
    "import geopandas as gpd"
   ]
  },
  {
   "cell_type": "markdown",
   "id": "8f949814",
   "metadata": {},
   "source": [
    "## Connect to the Database"
   ]
  },
  {
   "cell_type": "code",
   "execution_count": 14,
   "id": "7be08b50",
   "metadata": {},
   "outputs": [],
   "source": [
    "# connect to our credentioal file\n",
    "conn_string = \"host=\" + creds.PGHOST + \" port=\" + creds.PORT + \" dbname=\" + creds.PGDATABASE + \" user=\" + creds.PGUSER \\\n",
    "    + \" password=\" + creds.PGPASSWORD\n"
   ]
  },
  {
   "cell_type": "code",
   "execution_count": 15,
   "id": "ac5d6649",
   "metadata": {},
   "outputs": [],
   "source": [
    "conn = psycopg2.connect(conn_string)"
   ]
  },
  {
   "cell_type": "code",
   "execution_count": 16,
   "id": "42f7802b",
   "metadata": {
    "scrolled": false
   },
   "outputs": [
    {
     "name": "stderr",
     "output_type": "stream",
     "text": [
      "C:\\Users\\Administrator\\AppData\\Local\\Temp\\ipykernel_20384\\676806343.py:12: UserWarning: pandas only supports SQLAlchemy connectable (engine/connection) or database string URI or sqlite3 DBAPI2 connection. Other DBAPI2 objects are not tested. Please consider using SQLAlchemy.\n",
      "  df_messstelle = pd.read_sql(query_messstelle, conn)\n",
      "C:\\Users\\Administrator\\AppData\\Local\\Temp\\ipykernel_20384\\676806343.py:20: UserWarning: Column names longer than 10 characters will be truncated when saved to ESRI Shapefile.\n",
      "  gdf_messstelle.to_file(\"Shape_files/messstelle_shapefile.shp\")\n",
      "C:\\ProgramData\\anaconda3\\lib\\site-packages\\pyogrio\\raw.py:709: RuntimeWarning: Normalized/laundered field name: 'messstelle_id' to 'messstelle'\n",
      "  ogr_write(\n",
      "C:\\ProgramData\\anaconda3\\lib\\site-packages\\pyogrio\\raw.py:709: RuntimeWarning: Normalized/laundered field name: 'gw_stockwerk' to 'gw_stockwe'\n",
      "  ogr_write(\n",
      "C:\\ProgramData\\anaconda3\\lib\\site-packages\\pyogrio\\raw.py:709: RuntimeWarning: Normalized/laundered field name: 'grundstueck' to 'grundstuec'\n",
      "  ogr_write(\n",
      "C:\\ProgramData\\anaconda3\\lib\\site-packages\\pyogrio\\raw.py:709: RuntimeWarning: Normalized/laundered field name: 'gemeinde_id' to 'gemeinde_i'\n",
      "  ogr_write(\n",
      "C:\\ProgramData\\anaconda3\\lib\\site-packages\\pyogrio\\raw.py:709: RuntimeWarning: Normalized/laundered field name: 'gemeinde_name' to 'gemeinde_n'\n",
      "  ogr_write(\n",
      "C:\\ProgramData\\anaconda3\\lib\\site-packages\\pyogrio\\raw.py:709: RuntimeWarning: Normalized/laundered field name: 'gwhorizont_id' to 'gwhorizont'\n",
      "  ogr_write(\n",
      "C:\\ProgramData\\anaconda3\\lib\\site-packages\\pyogrio\\raw.py:709: RuntimeWarning: Normalized/laundered field name: 'gwhorizont' to 'gwhorizo_1'\n",
      "  ogr_write(\n",
      "C:\\ProgramData\\anaconda3\\lib\\site-packages\\pyogrio\\raw.py:709: RuntimeWarning: Normalized/laundered field name: 'gwleiter_id' to 'gwleiter_i'\n",
      "  ogr_write(\n",
      "C:\\ProgramData\\anaconda3\\lib\\site-packages\\pyogrio\\raw.py:709: RuntimeWarning: Normalized/laundered field name: 'einrichtungsgrund' to 'einrichtun'\n",
      "  ogr_write(\n",
      "C:\\ProgramData\\anaconda3\\lib\\site-packages\\pyogrio\\raw.py:709: RuntimeWarning: Normalized/laundered field name: 'gwk_lage_auf_id' to 'gwk_lage_a'\n",
      "  ogr_write(\n",
      "C:\\ProgramData\\anaconda3\\lib\\site-packages\\pyogrio\\raw.py:709: RuntimeWarning: Normalized/laundered field name: 'gwk_lage_id' to 'gwk_lage_i'\n",
      "  ogr_write(\n",
      "C:\\ProgramData\\anaconda3\\lib\\site-packages\\pyogrio\\raw.py:709: RuntimeWarning: Normalized/laundered field name: 'gwk_monitoring_auf_id' to 'gwk_monito'\n",
      "  ogr_write(\n",
      "C:\\ProgramData\\anaconda3\\lib\\site-packages\\pyogrio\\raw.py:709: RuntimeWarning: Normalized/laundered field name: 'gwk_monitoring_id' to 'gwk_moni_1'\n",
      "  ogr_write(\n",
      "C:\\ProgramData\\anaconda3\\lib\\site-packages\\pyogrio\\raw.py:709: RuntimeWarning: Normalized/laundered field name: 'messprogramm' to 'messprogra'\n",
      "  ogr_write(\n",
      "C:\\ProgramData\\anaconda3\\lib\\site-packages\\pyogrio\\raw.py:709: RuntimeWarning: Normalized/laundered field name: 'turnus_wasserstand' to 'turnus_was'\n",
      "  ogr_write(\n",
      "C:\\ProgramData\\anaconda3\\lib\\site-packages\\pyogrio\\raw.py:709: RuntimeWarning: Normalized/laundered field name: 'freigabe_wstd' to 'freigabe_w'\n",
      "  ogr_write(\n",
      "C:\\ProgramData\\anaconda3\\lib\\site-packages\\pyogrio\\raw.py:709: RuntimeWarning: Normalized/laundered field name: 'freigabe_chemie' to 'freigabe_c'\n",
      "  ogr_write(\n",
      "C:\\ProgramData\\anaconda3\\lib\\site-packages\\pyogrio\\raw.py:709: RuntimeWarning: Normalized/laundered field name: 'freigabe_lage' to 'freigabe_l'\n",
      "  ogr_write(\n",
      "C:\\ProgramData\\anaconda3\\lib\\site-packages\\pyogrio\\raw.py:709: RuntimeWarning: Normalized/laundered field name: 'wasserstandsmessstelle' to 'wasserstan'\n",
      "  ogr_write(\n",
      "C:\\ProgramData\\anaconda3\\lib\\site-packages\\pyogrio\\raw.py:709: RuntimeWarning: Normalized/laundered field name: 'guetemessstelle' to 'guetemesss'\n",
      "  ogr_write(\n",
      "C:\\ProgramData\\anaconda3\\lib\\site-packages\\pyogrio\\raw.py:709: RuntimeWarning: Normalized/laundered field name: 'im_wrrl_messnetz_chemie' to 'im_wrrl_me'\n",
      "  ogr_write(\n",
      "C:\\ProgramData\\anaconda3\\lib\\site-packages\\pyogrio\\raw.py:709: RuntimeWarning: Normalized/laundered field name: 'im_wrrl_messnetz_wasserstand' to 'im_wrrl__1'\n",
      "  ogr_write(\n",
      "C:\\ProgramData\\anaconda3\\lib\\site-packages\\pyogrio\\raw.py:709: RuntimeWarning: Normalized/laundered field name: 'messstellenart' to 'messstel_1'\n",
      "  ogr_write(\n",
      "C:\\ProgramData\\anaconda3\\lib\\site-packages\\pyogrio\\raw.py:709: RuntimeWarning: Normalized/laundered field name: 'beobachtung_wasserstand' to 'beobachtun'\n",
      "  ogr_write(\n",
      "C:\\ProgramData\\anaconda3\\lib\\site-packages\\pyogrio\\raw.py:709: RuntimeWarning: Normalized/laundered field name: 'eigentuemer' to 'eigentueme'\n",
      "  ogr_write(\n",
      "C:\\ProgramData\\anaconda3\\lib\\site-packages\\pyogrio\\raw.py:709: RuntimeWarning: Normalized/laundered field name: 'filterlaenge_cm' to 'filterlaen'\n",
      "  ogr_write(\n",
      "C:\\ProgramData\\anaconda3\\lib\\site-packages\\pyogrio\\raw.py:709: RuntimeWarning: Normalized/laundered field name: 'sumpfrohrlaenge_cm' to 'sumpfrohrl'\n",
      "  ogr_write(\n",
      "C:\\ProgramData\\anaconda3\\lib\\site-packages\\pyogrio\\raw.py:709: RuntimeWarning: Normalized/laundered field name: 'ausbaudurchmesser_mm' to 'ausbaudurc'\n",
      "  ogr_write(\n",
      "C:\\ProgramData\\anaconda3\\lib\\site-packages\\pyogrio\\raw.py:709: RuntimeWarning: Normalized/laundered field name: 'historischer_ruhe_wsp' to 'historisch'\n",
      "  ogr_write(\n",
      "C:\\ProgramData\\anaconda3\\lib\\site-packages\\pyogrio\\raw.py:709: RuntimeWarning: Normalized/laundered field name: 'einbaulaenge_cm' to 'einbaulaen'\n",
      "  ogr_write(\n",
      "C:\\ProgramData\\anaconda3\\lib\\site-packages\\pyogrio\\raw.py:709: RuntimeWarning: Normalized/laundered field name: 'oberkante_filter_cm' to 'oberkante_'\n",
      "  ogr_write(\n",
      "C:\\ProgramData\\anaconda3\\lib\\site-packages\\pyogrio\\raw.py:709: RuntimeWarning: Normalized/laundered field name: 'unterkante_filter_cm' to 'unterkante'\n",
      "  ogr_write(\n",
      "C:\\Users\\Administrator\\AppData\\Local\\Temp\\ipykernel_20384\\676806343.py:24: UserWarning: pandas only supports SQLAlchemy connectable (engine/connection) or database string URI or sqlite3 DBAPI2 connection. Other DBAPI2 objects are not tested. Please consider using SQLAlchemy.\n",
      "  df_messwert = pd.read_sql(query_messwert, conn)\n",
      "C:\\Users\\Administrator\\AppData\\Local\\Temp\\ipykernel_20384\\676806343.py:33: UserWarning: Column names longer than 10 characters will be truncated when saved to ESRI Shapefile.\n",
      "  gdf_merged.to_file(\"Shape_files/nitrate_measurements.shp\")\n",
      "C:\\ProgramData\\anaconda3\\lib\\site-packages\\pyogrio\\raw.py:709: RuntimeWarning: Normalized/laundered field name: 'messstelle_id' to 'messstelle'\n",
      "  ogr_write(\n",
      "C:\\ProgramData\\anaconda3\\lib\\site-packages\\pyogrio\\raw.py:709: RuntimeWarning: Normalized/laundered field name: 'messstelle_sl_nr' to 'messstel_1'\n",
      "  ogr_write(\n",
      "C:\\ProgramData\\anaconda3\\lib\\site-packages\\pyogrio\\raw.py:709: RuntimeWarning: Field datum_pn create as date field, though DateTime requested.\n",
      "  ogr_write(\n",
      "C:\\ProgramData\\anaconda3\\lib\\site-packages\\pyogrio\\raw.py:709: RuntimeWarning: Normalized/laundered field name: 'messergebnis_c' to 'messergebn'\n",
      "  ogr_write(\n",
      "C:\\ProgramData\\anaconda3\\lib\\site-packages\\pyogrio\\raw.py:709: RuntimeWarning: Normalized/laundered field name: 'messergebnis_hinweis' to 'messerge_1'\n",
      "  ogr_write(\n",
      "C:\\ProgramData\\anaconda3\\lib\\site-packages\\pyogrio\\raw.py:709: RuntimeWarning: Normalized/laundered field name: 'bestimmungsgrenze' to 'bestimmung'\n",
      "  ogr_write(\n",
      "C:\\ProgramData\\anaconda3\\lib\\site-packages\\pyogrio\\raw.py:709: RuntimeWarning: Normalized/laundered field name: 'masseinheit' to 'masseinhei'\n",
      "  ogr_write(\n",
      "C:\\ProgramData\\anaconda3\\lib\\site-packages\\pyogrio\\raw.py:709: RuntimeWarning: Normalized/laundered field name: 'trennverfahren' to 'trennverfa'\n",
      "  ogr_write(\n",
      "C:\\ProgramData\\anaconda3\\lib\\site-packages\\pyogrio\\raw.py:709: RuntimeWarning: Normalized/laundered field name: 'messergebnis_cm' to 'messerge_2'\n",
      "  ogr_write(\n"
     ]
    }
   ],
   "source": [
    "import pandas as pd\n",
    "import geopandas as gpd\n",
    "import psycopg2\n",
    "import credential_temp as creds\n",
    "\n",
    "# Connect to the Database\n",
    "conn_string = f\"host={creds.PGHOST} port={creds.PORT} dbname={creds.PGDATABASE} user={creds.PGUSER} password={creds.PGPASSWORD}\"\n",
    "conn = psycopg2.connect(conn_string)\n",
    "\n",
    "# Query the messstelle table\n",
    "query_messstelle = \"SELECT * FROM hygrisc.messstelle\"\n",
    "df_messstelle = pd.read_sql(query_messstelle, conn)\n",
    "\n",
    "# Convert messstelle DataFrame to GeoDataFrame\n",
    "gdf_messstelle = gpd.GeoDataFrame(df_messstelle, \n",
    "                                  geometry=gpd.points_from_xy(df_messstelle.e32, df_messstelle.n32),\n",
    "                                  crs=\"EPSG:25832\")\n",
    "\n",
    "# Save messstelle to a shapefile\n",
    "gdf_messstelle.to_file(\"Shape_files/messstelle_shapefile.shp\")\n",
    "\n",
    "# Query the messwert table for nitrate measurements\n",
    "query_messwert = \"SELECT * FROM hygrisc.messwert WHERE stoff_nr = 1244\"\n",
    "df_messwert = pd.read_sql(query_messwert, conn)\n",
    "\n",
    "# Merge messwert with messstelle to get geometries\n",
    "df_merged = pd.merge(df_messwert, gdf_messstelle[['messstelle_id', 'geometry']], on='messstelle_id')\n",
    "\n",
    "# Convert merged DataFrame to GeoDataFrame\n",
    "gdf_merged = gpd.GeoDataFrame(df_merged, geometry='geometry', crs=\"EPSG:25832\")\n",
    "\n",
    "# Save nitrate measurements to a shapefile\n",
    "gdf_merged.to_file(\"Shape_files/nitrate_measurements.shp\")\n"
   ]
  },
  {
   "cell_type": "code",
   "execution_count": null,
   "id": "213c7e56",
   "metadata": {},
   "outputs": [],
   "source": []
  }
 ],
 "metadata": {
  "kernelspec": {
   "display_name": "Python 3 (ipykernel)",
   "language": "python",
   "name": "python3"
  },
  "language_info": {
   "codemirror_mode": {
    "name": "ipython",
    "version": 3
   },
   "file_extension": ".py",
   "mimetype": "text/x-python",
   "name": "python",
   "nbconvert_exporter": "python",
   "pygments_lexer": "ipython3",
   "version": "3.10.9"
  }
 },
 "nbformat": 4,
 "nbformat_minor": 5
}
