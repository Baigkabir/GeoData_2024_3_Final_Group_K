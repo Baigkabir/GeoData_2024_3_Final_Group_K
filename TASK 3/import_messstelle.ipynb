{
 "cells": [
  {
   "cell_type": "markdown",
   "metadata": {},
   "source": [
    "# Task 3 : OpenHygrisC Nitrate Data "
   ]
  },
  {
   "cell_type": "markdown",
   "metadata": {},
   "source": [
    "# Aim of This Notebook\n"
   ]
  },
  {
   "cell_type": "markdown",
   "metadata": {},
   "source": [
    "In this notebook, we want to import the \"messstelle.csv\" file to our Postgres Database\n",
    "\n",
    " we need follwing packages: \n",
    "\n",
    "* Pandas \n",
    "* Sqlalchemy\n"
   ]
  },
  {
   "cell_type": "code",
   "execution_count": 24,
   "metadata": {},
   "outputs": [],
   "source": [
    "#importing the packages\n",
    "\n",
    "import pandas as pd\n",
    "from sqlalchemy import create_engine\n",
    "import sqlalchemy\n",
    "import credential_temp as  creds \n",
    "\n"
   ]
  },
  {
   "cell_type": "markdown",
   "metadata": {},
   "source": [
    "# Data location"
   ]
  },
  {
   "cell_type": "markdown",
   "metadata": {},
   "source": [
    " First, we need to create the path of our data. \n"
   ]
  },
  {
   "cell_type": "code",
   "execution_count": 25,
   "metadata": {},
   "outputs": [],
   "source": [
    "data_in_dir = r\"data/\"\n",
    "\n",
    "gw_station_fname = r\"OpenHygrisC_gw-messstelle.csv\"\n",
    "\n",
    "gw_station_pfname = data_in_dir + gw_station_fname"
   ]
  },
  {
   "cell_type": "markdown",
   "metadata": {},
   "source": [
    "## Read the file\n",
    "Don't forget to add the \"delimiter\", normal csv file's delimiter is \",\" but in our case it's \";\", so we need to assign it."
   ]
  },
  {
   "cell_type": "code",
   "execution_count": 26,
   "metadata": {},
   "outputs": [
    {
     "name": "stderr",
     "output_type": "stream",
     "text": [
      "C:\\Users\\Administrator\\AppData\\Local\\Temp\\ipykernel_6660\\3457025364.py:1: DtypeWarning: Columns (7) have mixed types. Specify dtype option on import or set low_memory=False.\n",
      "  df = pd.read_csv(gw_station_pfname, delimiter=';', encoding='latin1', header='infer')\n"
     ]
    },
    {
     "data": {
      "text/html": [
       "<div>\n",
       "<style scoped>\n",
       "    .dataframe tbody tr th:only-of-type {\n",
       "        vertical-align: middle;\n",
       "    }\n",
       "\n",
       "    .dataframe tbody tr th {\n",
       "        vertical-align: top;\n",
       "    }\n",
       "\n",
       "    .dataframe thead th {\n",
       "        text-align: right;\n",
       "    }\n",
       "</style>\n",
       "<table border=\"1\" class=\"dataframe\">\n",
       "  <thead>\n",
       "    <tr style=\"text-align: right;\">\n",
       "      <th></th>\n",
       "      <th>sl_nr</th>\n",
       "      <th>messstelle_id</th>\n",
       "      <th>name</th>\n",
       "      <th>e32</th>\n",
       "      <th>n32</th>\n",
       "      <th>gw_stockwerk</th>\n",
       "      <th>grundstueck</th>\n",
       "      <th>gemeinde_id</th>\n",
       "      <th>gemeinde_name</th>\n",
       "      <th>gwhorizont_id</th>\n",
       "      <th>...</th>\n",
       "      <th>beobachtung_wasserstand</th>\n",
       "      <th>eigentuemer</th>\n",
       "      <th>betreiber</th>\n",
       "      <th>filterlaenge_cm</th>\n",
       "      <th>sumpfrohrlaenge_cm</th>\n",
       "      <th>ausbaudurchmesser_mm</th>\n",
       "      <th>historischer_ruhe_wsp</th>\n",
       "      <th>einbaulaenge_cm</th>\n",
       "      <th>oberkante_filter_cm</th>\n",
       "      <th>unterkante_filter_cm</th>\n",
       "    </tr>\n",
       "  </thead>\n",
       "  <tbody>\n",
       "    <tr>\n",
       "      <th>0</th>\n",
       "      <td>71143</td>\n",
       "      <td>40007030</td>\n",
       "      <td>GWM301 Aurelis PortsWuhan</td>\n",
       "      <td>3451XX</td>\n",
       "      <td>56998XX</td>\n",
       "      <td>NaN</td>\n",
       "      <td>privat</td>\n",
       "      <td>05112000</td>\n",
       "      <td>Duisburg</td>\n",
       "      <td>NaN</td>\n",
       "      <td>...</td>\n",
       "      <td>-</td>\n",
       "      <td>Aurelis Real Estate GmbH</td>\n",
       "      <td>Aurelis Real Estate GmbH</td>\n",
       "      <td>1600.0</td>\n",
       "      <td>0.0</td>\n",
       "      <td>75.0</td>\n",
       "      <td>NaN</td>\n",
       "      <td>2136.0</td>\n",
       "      <td>3164.0</td>\n",
       "      <td>1564.0</td>\n",
       "    </tr>\n",
       "    <tr>\n",
       "      <th>1</th>\n",
       "      <td>24316</td>\n",
       "      <td>91168806</td>\n",
       "      <td>Südl. Kanaldeckel</td>\n",
       "      <td>457597</td>\n",
       "      <td>5718660</td>\n",
       "      <td>1.0</td>\n",
       "      <td>oeffentlich</td>\n",
       "      <td>05974016</td>\n",
       "      <td>Erwitte</td>\n",
       "      <td>NaN</td>\n",
       "      <td>...</td>\n",
       "      <td>durch LANUV</td>\n",
       "      <td>Stadtwerke Lippstadt                          ...</td>\n",
       "      <td>Land NRW                                      ...</td>\n",
       "      <td>NaN</td>\n",
       "      <td>NaN</td>\n",
       "      <td>117.0</td>\n",
       "      <td>NaN</td>\n",
       "      <td>7200.0</td>\n",
       "      <td>3233.0</td>\n",
       "      <td>3233.0</td>\n",
       "    </tr>\n",
       "    <tr>\n",
       "      <th>2</th>\n",
       "      <td>54650</td>\n",
       "      <td>24180993</td>\n",
       "      <td>PB 13T  Paderborn</td>\n",
       "      <td>482108</td>\n",
       "      <td>5729807</td>\n",
       "      <td>1.0</td>\n",
       "      <td>oeffentlich</td>\n",
       "      <td>05774032</td>\n",
       "      <td>Paderborn</td>\n",
       "      <td>NaN</td>\n",
       "      <td>...</td>\n",
       "      <td>durch LANUV</td>\n",
       "      <td>Land NRW                                      ...</td>\n",
       "      <td>Land NRW                                      ...</td>\n",
       "      <td>800.0</td>\n",
       "      <td>0.0</td>\n",
       "      <td>125.0</td>\n",
       "      <td>NaN</td>\n",
       "      <td>3538.0</td>\n",
       "      <td>8282.0</td>\n",
       "      <td>7482.0</td>\n",
       "    </tr>\n",
       "    <tr>\n",
       "      <th>3</th>\n",
       "      <td>3458</td>\n",
       "      <td>23164529</td>\n",
       "      <td>54      Delbrueck</td>\n",
       "      <td>4736XX</td>\n",
       "      <td>57354XX</td>\n",
       "      <td>1.0</td>\n",
       "      <td>oeffentlich</td>\n",
       "      <td>05774020</td>\n",
       "      <td>Delbrück</td>\n",
       "      <td>NaN</td>\n",
       "      <td>...</td>\n",
       "      <td>-</td>\n",
       "      <td>Stadt Delbrueck, WW Ostenland                 ...</td>\n",
       "      <td>Stadt Delbrueck, WW Ostenland                 ...</td>\n",
       "      <td>NaN</td>\n",
       "      <td>NaN</td>\n",
       "      <td>NaN</td>\n",
       "      <td>NaN</td>\n",
       "      <td>700.0</td>\n",
       "      <td>8875.0</td>\n",
       "      <td>8875.0</td>\n",
       "    </tr>\n",
       "    <tr>\n",
       "      <th>4</th>\n",
       "      <td>64554</td>\n",
       "      <td>106502025</td>\n",
       "      <td>HELP9 BR HELPUP</td>\n",
       "      <td>4785XX</td>\n",
       "      <td>57581XX</td>\n",
       "      <td>1.0</td>\n",
       "      <td>privat</td>\n",
       "      <td>05766056</td>\n",
       "      <td>Oerlinghausen</td>\n",
       "      <td>NaN</td>\n",
       "      <td>...</td>\n",
       "      <td>-</td>\n",
       "      <td>Stadtwerke Oerlinghausen GmbH                 ...</td>\n",
       "      <td>Stadtwerke Oerlinghausen GmbH                 ...</td>\n",
       "      <td>3000.0</td>\n",
       "      <td>200.0</td>\n",
       "      <td>400.0</td>\n",
       "      <td>NaN</td>\n",
       "      <td>10800.0</td>\n",
       "      <td>7020.0</td>\n",
       "      <td>4020.0</td>\n",
       "    </tr>\n",
       "  </tbody>\n",
       "</table>\n",
       "<p>5 rows × 40 columns</p>\n",
       "</div>"
      ],
      "text/plain": [
       "   sl_nr  messstelle_id                       name     e32      n32  \\\n",
       "0  71143       40007030  GWM301 Aurelis PortsWuhan  3451XX  56998XX   \n",
       "1  24316       91168806        Südl. Kanaldeckel    457597  5718660   \n",
       "2  54650       24180993        PB 13T  Paderborn    482108  5729807   \n",
       "3   3458       23164529        54      Delbrueck    4736XX  57354XX   \n",
       "4  64554      106502025        HELP9 BR HELPUP      4785XX  57581XX   \n",
       "\n",
       "   gw_stockwerk  grundstueck gemeinde_id  gemeinde_name gwhorizont_id  ...  \\\n",
       "0           NaN       privat    05112000       Duisburg           NaN  ...   \n",
       "1           1.0  oeffentlich    05974016        Erwitte           NaN  ...   \n",
       "2           1.0  oeffentlich    05774032      Paderborn           NaN  ...   \n",
       "3           1.0  oeffentlich    05774020       Delbrück           NaN  ...   \n",
       "4           1.0       privat    05766056  Oerlinghausen           NaN  ...   \n",
       "\n",
       "  beobachtung_wasserstand                                        eigentuemer  \\\n",
       "0                       -                           Aurelis Real Estate GmbH   \n",
       "1             durch LANUV  Stadtwerke Lippstadt                          ...   \n",
       "2             durch LANUV  Land NRW                                      ...   \n",
       "3                       -  Stadt Delbrueck, WW Ostenland                 ...   \n",
       "4                       -  Stadtwerke Oerlinghausen GmbH                 ...   \n",
       "\n",
       "                                           betreiber filterlaenge_cm  \\\n",
       "0                           Aurelis Real Estate GmbH          1600.0   \n",
       "1  Land NRW                                      ...             NaN   \n",
       "2  Land NRW                                      ...           800.0   \n",
       "3  Stadt Delbrueck, WW Ostenland                 ...             NaN   \n",
       "4  Stadtwerke Oerlinghausen GmbH                 ...          3000.0   \n",
       "\n",
       "  sumpfrohrlaenge_cm ausbaudurchmesser_mm historischer_ruhe_wsp  \\\n",
       "0                0.0                 75.0                   NaN   \n",
       "1                NaN                117.0                   NaN   \n",
       "2                0.0                125.0                   NaN   \n",
       "3                NaN                  NaN                   NaN   \n",
       "4              200.0                400.0                   NaN   \n",
       "\n",
       "  einbaulaenge_cm oberkante_filter_cm unterkante_filter_cm  \n",
       "0          2136.0              3164.0               1564.0  \n",
       "1          7200.0              3233.0               3233.0  \n",
       "2          3538.0              8282.0               7482.0  \n",
       "3           700.0              8875.0               8875.0  \n",
       "4         10800.0              7020.0               4020.0  \n",
       "\n",
       "[5 rows x 40 columns]"
      ]
     },
     "execution_count": 26,
     "metadata": {},
     "output_type": "execute_result"
    }
   ],
   "source": [
    "df = pd.read_csv(gw_station_pfname, delimiter=';', encoding='latin1', header='infer')\n",
    "\n",
    "#df = pd.read_csv(gw_station_pfname, delimiter=';', header='infer')\n",
    "df.head()"
   ]
  },
  {
   "cell_type": "markdown",
   "metadata": {},
   "source": [
    "## data type\n",
    "\n",
    "e32 and n32 should be int if we want to create geometry columns from them"
   ]
  },
  {
   "cell_type": "code",
   "execution_count": 27,
   "metadata": {},
   "outputs": [
    {
     "data": {
      "text/plain": [
       "sl_nr                             int64\n",
       "messstelle_id                     int64\n",
       "name                             object\n",
       "e32                              object\n",
       "n32                              object\n",
       "gw_stockwerk                    float64\n",
       "grundstueck                      object\n",
       "gemeinde_id                      object\n",
       "gemeinde_name                    object\n",
       "gwhorizont_id                    object\n",
       "gwhorizont                       object\n",
       "gwleiter_id                      object\n",
       "gwleiter                         object\n",
       "einrichtungsgrund                object\n",
       "gwk_lage_auf_id                  object\n",
       "gwk_lage_id                      object\n",
       "gwk_monitoring_auf_id            object\n",
       "gwk_monitoring_id                object\n",
       "messprogramm                     object\n",
       "turnus_wasserstand               object\n",
       "freigabe_wstd                    object\n",
       "freigabe_chemie                  object\n",
       "freigabe_lage                    object\n",
       "wasserstandsmessstelle           object\n",
       "guetemessstelle                  object\n",
       "im_wrrl_messnetz_chemie          object\n",
       "im_wrrl_messnetz_wasserstand     object\n",
       "messstellenart                   object\n",
       "wasserart                        object\n",
       "labor                            object\n",
       "beobachtung_wasserstand          object\n",
       "eigentuemer                      object\n",
       "betreiber                        object\n",
       "filterlaenge_cm                 float64\n",
       "sumpfrohrlaenge_cm              float64\n",
       "ausbaudurchmesser_mm            float64\n",
       "historischer_ruhe_wsp            object\n",
       "einbaulaenge_cm                 float64\n",
       "oberkante_filter_cm             float64\n",
       "unterkante_filter_cm            float64\n",
       "dtype: object"
      ]
     },
     "execution_count": 27,
     "metadata": {},
     "output_type": "execute_result"
    }
   ],
   "source": [
    "df.dtypes"
   ]
  },
  {
   "cell_type": "markdown",
   "metadata": {},
   "source": [
    "## change some data types\n",
    "* e32 to Int\n",
    "* n32 to Int\n",
    "* drop NA value\n",
    "\n",
    "First step, we must drop the NA value.\n",
    "Second step is some rows the last two digit are xx which means that the exact location is not avaliable. \n",
    "Now we need to replace this xx with two digit. These two xx could be in the range of 00 to 99. \n",
    "In here we replace the xx with 50"
   ]
  },
  {
   "cell_type": "code",
   "execution_count": 28,
   "metadata": {},
   "outputs": [],
   "source": [
    "# drop NA\n",
    "df = df.dropna(subset=['e32'])\n",
    "df = df.dropna(subset=['n32'])"
   ]
  },
  {
   "cell_type": "code",
   "execution_count": 29,
   "metadata": {},
   "outputs": [
    {
     "data": {
      "text/plain": [
       "0        3451XX\n",
       "1        457597\n",
       "2        482108\n",
       "3        4736XX\n",
       "4        4785XX\n",
       "          ...  \n",
       "73054    3212XX\n",
       "73055    3182XX\n",
       "73056    3268XX\n",
       "73057    3471XX\n",
       "73058    3267XX\n",
       "Name: e32, Length: 73059, dtype: object"
      ]
     },
     "execution_count": 29,
     "metadata": {},
     "output_type": "execute_result"
    }
   ],
   "source": [
    "df.e32"
   ]
  },
  {
   "cell_type": "code",
   "execution_count": 30,
   "metadata": {},
   "outputs": [],
   "source": [
    "# replace all xx with 50\n",
    "\n",
    "df.e32 = df['e32'].replace({'xx':'50'}, regex=True)\n",
    "df.n32 = df['n32'].replace({'xx':'50'}, regex=True)"
   ]
  },
  {
   "cell_type": "code",
   "execution_count": 31,
   "metadata": {},
   "outputs": [],
   "source": [
    "# Drop rows that still contain non-numeric characters\n",
    "df = df[~df['e32'].str.contains(r'[^\\d]', regex=True)]\n",
    "df = df[~df['n32'].str.contains(r'[^\\d]', regex=True)]"
   ]
  },
  {
   "cell_type": "code",
   "execution_count": 32,
   "metadata": {},
   "outputs": [],
   "source": [
    "# convert e32 and n32 to int\n",
    "df['e32'] = df['e32'].astype(int)\n",
    "df['n32'] = df['n32'].astype(int)"
   ]
  },
  {
   "cell_type": "markdown",
   "metadata": {},
   "source": [
    "### Now the e32 and n32 are int"
   ]
  },
  {
   "cell_type": "code",
   "execution_count": 33,
   "metadata": {},
   "outputs": [
    {
     "data": {
      "text/plain": [
       "sl_nr                             int64\n",
       "messstelle_id                     int64\n",
       "name                             object\n",
       "e32                               int32\n",
       "n32                               int32\n",
       "gw_stockwerk                    float64\n",
       "grundstueck                      object\n",
       "gemeinde_id                      object\n",
       "gemeinde_name                    object\n",
       "gwhorizont_id                    object\n",
       "gwhorizont                       object\n",
       "gwleiter_id                      object\n",
       "gwleiter                         object\n",
       "einrichtungsgrund                object\n",
       "gwk_lage_auf_id                  object\n",
       "gwk_lage_id                      object\n",
       "gwk_monitoring_auf_id            object\n",
       "gwk_monitoring_id                object\n",
       "messprogramm                     object\n",
       "turnus_wasserstand               object\n",
       "freigabe_wstd                    object\n",
       "freigabe_chemie                  object\n",
       "freigabe_lage                    object\n",
       "wasserstandsmessstelle           object\n",
       "guetemessstelle                  object\n",
       "im_wrrl_messnetz_chemie          object\n",
       "im_wrrl_messnetz_wasserstand     object\n",
       "messstellenart                   object\n",
       "wasserart                        object\n",
       "labor                            object\n",
       "beobachtung_wasserstand          object\n",
       "eigentuemer                      object\n",
       "betreiber                        object\n",
       "filterlaenge_cm                 float64\n",
       "sumpfrohrlaenge_cm              float64\n",
       "ausbaudurchmesser_mm            float64\n",
       "historischer_ruhe_wsp            object\n",
       "einbaulaenge_cm                 float64\n",
       "oberkante_filter_cm             float64\n",
       "unterkante_filter_cm            float64\n",
       "dtype: object"
      ]
     },
     "execution_count": 33,
     "metadata": {},
     "output_type": "execute_result"
    }
   ],
   "source": [
    "df.dtypes"
   ]
  },
  {
   "cell_type": "code",
   "execution_count": 34,
   "metadata": {},
   "outputs": [
    {
     "data": {
      "text/html": [
       "<div>\n",
       "<style scoped>\n",
       "    .dataframe tbody tr th:only-of-type {\n",
       "        vertical-align: middle;\n",
       "    }\n",
       "\n",
       "    .dataframe tbody tr th {\n",
       "        vertical-align: top;\n",
       "    }\n",
       "\n",
       "    .dataframe thead th {\n",
       "        text-align: right;\n",
       "    }\n",
       "</style>\n",
       "<table border=\"1\" class=\"dataframe\">\n",
       "  <thead>\n",
       "    <tr style=\"text-align: right;\">\n",
       "      <th></th>\n",
       "      <th>sl_nr</th>\n",
       "      <th>messstelle_id</th>\n",
       "      <th>name</th>\n",
       "      <th>e32</th>\n",
       "      <th>n32</th>\n",
       "      <th>gw_stockwerk</th>\n",
       "      <th>grundstueck</th>\n",
       "      <th>gemeinde_id</th>\n",
       "      <th>gemeinde_name</th>\n",
       "      <th>gwhorizont_id</th>\n",
       "      <th>...</th>\n",
       "      <th>beobachtung_wasserstand</th>\n",
       "      <th>eigentuemer</th>\n",
       "      <th>betreiber</th>\n",
       "      <th>filterlaenge_cm</th>\n",
       "      <th>sumpfrohrlaenge_cm</th>\n",
       "      <th>ausbaudurchmesser_mm</th>\n",
       "      <th>historischer_ruhe_wsp</th>\n",
       "      <th>einbaulaenge_cm</th>\n",
       "      <th>oberkante_filter_cm</th>\n",
       "      <th>unterkante_filter_cm</th>\n",
       "    </tr>\n",
       "  </thead>\n",
       "  <tbody>\n",
       "  </tbody>\n",
       "</table>\n",
       "<p>0 rows × 40 columns</p>\n",
       "</div>"
      ],
      "text/plain": [
       "Empty DataFrame\n",
       "Columns: [sl_nr, messstelle_id, name, e32, n32, gw_stockwerk, grundstueck, gemeinde_id, gemeinde_name, gwhorizont_id, gwhorizont, gwleiter_id, gwleiter, einrichtungsgrund, gwk_lage_auf_id, gwk_lage_id, gwk_monitoring_auf_id, gwk_monitoring_id, messprogramm, turnus_wasserstand, freigabe_wstd, freigabe_chemie, freigabe_lage, wasserstandsmessstelle, guetemessstelle, im_wrrl_messnetz_chemie, im_wrrl_messnetz_wasserstand, messstellenart, wasserart, labor, beobachtung_wasserstand, eigentuemer, betreiber, filterlaenge_cm, sumpfrohrlaenge_cm, ausbaudurchmesser_mm, historischer_ruhe_wsp, einbaulaenge_cm, oberkante_filter_cm, unterkante_filter_cm]\n",
       "Index: []\n",
       "\n",
       "[0 rows x 40 columns]"
      ]
     },
     "execution_count": 34,
     "metadata": {},
     "output_type": "execute_result"
    }
   ],
   "source": [
    "filt = df['n32'] < 100\n",
    "df[filt]"
   ]
  },
  {
   "cell_type": "code",
   "execution_count": 35,
   "metadata": {},
   "outputs": [],
   "source": [
    "df.drop(df[df['e32'] < 100].index, inplace = True)\n",
    "df.drop(df[df['n32'] < 100].index, inplace = True)"
   ]
  },
  {
   "cell_type": "markdown",
   "metadata": {},
   "source": [
    "### check externally\n",
    "in order to check the all rows externally we can write it in csv file"
   ]
  },
  {
   "cell_type": "code",
   "execution_count": 36,
   "metadata": {},
   "outputs": [],
   "source": [
    "#df.to_csv(\"test.csv\", index = False)"
   ]
  },
  {
   "cell_type": "markdown",
   "metadata": {},
   "source": [
    "Other columns have no problem and the data is ready to import to Database."
   ]
  },
  {
   "cell_type": "markdown",
   "metadata": {},
   "source": [
    "## write in Database\n",
    "Now we want to import our df to postgres database.\n",
    "\n",
    "* First we have to connect to our Database URL\n",
    "* then we can write into the our database. we need to assign in which Schema we want to add our data frame. in this case I have added my data frame to the schema \"hygrisc\" which has been created before in the PGadmin."
   ]
  },
  {
   "cell_type": "code",
   "execution_count": 37,
   "metadata": {},
   "outputs": [],
   "source": [
    "# connect to out credential file\n",
    "\n",
    "postgresurl = creds.URL\n"
   ]
  },
  {
   "cell_type": "code",
   "execution_count": 38,
   "metadata": {},
   "outputs": [],
   "source": [
    "# write your sql url below\n",
    "engine = sqlalchemy.create_engine(postgresurl)\n"
   ]
  },
  {
   "cell_type": "code",
   "execution_count": 39,
   "metadata": {},
   "outputs": [
    {
     "name": "stdout",
     "output_type": "stream",
     "text": [
      "CPU times: total: 1.75 s\n",
      "Wall time: 2.7 s\n"
     ]
    },
    {
     "data": {
      "text/plain": [
       "772"
      ]
     },
     "execution_count": 39,
     "metadata": {},
     "output_type": "execute_result"
    }
   ],
   "source": [
    "%time df.to_sql(con=engine, name=\"messstelle\", schema=\"hygrisc\", if_exists=\"replace\", index=False)"
   ]
  },
  {
   "cell_type": "markdown",
   "metadata": {},
   "source": [
    "### Create geometry columns\n",
    "\n",
    "Now everything is fine and our data has been imported to Database successfully. but still someting important is missing.\n",
    "We have e32 and new columns but in order to map these location correclty and exatly in QGIS, we need geometry information. \n",
    "\n",
    "in order to create geometry columns from n32 and e32 the follwing step is required. \n",
    "\n"
   ]
  },
  {
   "cell_type": "code",
   "execution_count": 40,
   "metadata": {},
   "outputs": [],
   "source": [
    "quary = \"\"\" ALTER TABLE hygrisc.messstelle ADD COLUMN geom geometry(Point, 25832);\n",
    " UPDATE hygrisc.messstelle SET geom = ST_SetSRID(ST_MakePoint(e32, n32), 25832);\"\"\""
   ]
  },
  {
   "cell_type": "code",
   "execution_count": 41,
   "metadata": {},
   "outputs": [
    {
     "data": {
      "text/plain": [
       "<sqlalchemy.engine.cursor.LegacyCursorResult at 0x21245edf460>"
      ]
     },
     "execution_count": 41,
     "metadata": {},
     "output_type": "execute_result"
    }
   ],
   "source": [
    "engine.execute(quary)"
   ]
  },
  {
   "cell_type": "markdown",
   "metadata": {},
   "source": [
    "Now everything is fine and the data has been imported to our database with geometry columns sucessfully. You can see the data in PGadmin as well. "
   ]
  },
  {
   "cell_type": "markdown",
   "metadata": {},
   "source": [
    "## Finish!\n",
    "\n",
    "That's great, You have imported the table successfully in Postgres Database."
   ]
  },
  {
   "cell_type": "code",
   "execution_count": null,
   "metadata": {},
   "outputs": [],
   "source": []
  }
 ],
 "metadata": {
  "kernelspec": {
   "display_name": "Python 3 (ipykernel)",
   "language": "python",
   "name": "python3"
  },
  "language_info": {
   "codemirror_mode": {
    "name": "ipython",
    "version": 3
   },
   "file_extension": ".py",
   "mimetype": "text/x-python",
   "name": "python",
   "nbconvert_exporter": "python",
   "pygments_lexer": "ipython3",
   "version": "3.10.9"
  }
 },
 "nbformat": 4,
 "nbformat_minor": 4
}
