{
 "cells": [
  {
   "cell_type": "code",
   "execution_count": 3,
   "id": "177e84df",
   "metadata": {},
   "outputs": [
    {
     "name": "stdout",
     "output_type": "stream",
     "text": [
      "Requirement already satisfied: requests in c:\\programdata\\anaconda3\\lib\\site-packages (2.28.1)\n",
      "Requirement already satisfied: pandas in c:\\programdata\\anaconda3\\lib\\site-packages (1.5.3)\n",
      "Requirement already satisfied: urllib3<1.27,>=1.21.1 in c:\\programdata\\anaconda3\\lib\\site-packages (from requests) (1.26.14)\n",
      "Requirement already satisfied: charset-normalizer<3,>=2 in c:\\programdata\\anaconda3\\lib\\site-packages (from requests) (2.0.4)\n",
      "Requirement already satisfied: idna<4,>=2.5 in c:\\programdata\\anaconda3\\lib\\site-packages (from requests) (3.4)\n",
      "Requirement already satisfied: certifi>=2017.4.17 in c:\\programdata\\anaconda3\\lib\\site-packages (from requests) (2023.7.22)\n",
      "Requirement already satisfied: numpy>=1.21.0 in c:\\programdata\\anaconda3\\lib\\site-packages (from pandas) (1.23.5)\n",
      "Requirement already satisfied: pytz>=2020.1 in c:\\programdata\\anaconda3\\lib\\site-packages (from pandas) (2022.7)\n",
      "Requirement already satisfied: python-dateutil>=2.8.1 in c:\\programdata\\anaconda3\\lib\\site-packages (from pandas) (2.8.2)\n",
      "Requirement already satisfied: six>=1.5 in c:\\programdata\\anaconda3\\lib\\site-packages (from python-dateutil>=2.8.1->pandas) (1.16.0)\n"
     ]
    },
    {
     "name": "stderr",
     "output_type": "stream",
     "text": [
      "WARNING: Ignoring invalid distribution -cipy (c:\\programdata\\anaconda3\\lib\\site-packages)\n",
      "WARNING: Ignoring invalid distribution -cipy (c:\\programdata\\anaconda3\\lib\\site-packages)\n",
      "WARNING: Ignoring invalid distribution -cipy (c:\\programdata\\anaconda3\\lib\\site-packages)\n",
      "WARNING: Ignoring invalid distribution -cipy (c:\\programdata\\anaconda3\\lib\\site-packages)\n",
      "WARNING: Ignoring invalid distribution -cipy (c:\\programdata\\anaconda3\\lib\\site-packages)\n",
      "WARNING: Ignoring invalid distribution -cipy (c:\\programdata\\anaconda3\\lib\\site-packages)\n"
     ]
    }
   ],
   "source": [
    "#pip install geopandas shapely\n",
    "#!pip install requests pandas\n"
   ]
  },
  {
   "cell_type": "markdown",
   "id": "6da1c7d8",
   "metadata": {},
   "source": [
    "# SETUP "
   ]
  },
  {
   "cell_type": "code",
   "execution_count": 25,
   "id": "88f39a8b",
   "metadata": {},
   "outputs": [],
   "source": [
    "import pandas as pd\n",
    "import geopandas as gpd\n",
    "from shapely.geometry import Point\n",
    "import requests\n",
    "import os\n",
    "import zipfile\n",
    "import seaborn as sns\n",
    "import matplotlib.pyplot as plt"
   ]
  },
  {
   "cell_type": "markdown",
   "id": "d89e86b2",
   "metadata": {},
   "source": [
    "## 1. Warming Stripes (20 Points)"
   ]
  },
  {
   "cell_type": "markdown",
   "id": "0c21f7eb",
   "metadata": {},
   "source": [
    "### Sub-Task 1.1:"
   ]
  },
  {
   "cell_type": "markdown",
   "id": "ae8a15ce",
   "metadata": {},
   "source": [
    "#### Loading and understanding the dataset"
   ]
  },
  {
   "cell_type": "code",
   "execution_count": 2,
   "id": "ae676d7f",
   "metadata": {},
   "outputs": [],
   "source": [
    "# Load the Excel file\n",
    "file_path = 'KL_Jahreswerte_Beschreibung_Stationen.xlsx'\n",
    "station_df = pd.read_excel(file_path)"
   ]
  },
  {
   "cell_type": "code",
   "execution_count": 3,
   "id": "ae8afda2",
   "metadata": {},
   "outputs": [
    {
     "data": {
      "text/html": [
       "<div>\n",
       "<style scoped>\n",
       "    .dataframe tbody tr th:only-of-type {\n",
       "        vertical-align: middle;\n",
       "    }\n",
       "\n",
       "    .dataframe tbody tr th {\n",
       "        vertical-align: top;\n",
       "    }\n",
       "\n",
       "    .dataframe thead th {\n",
       "        text-align: right;\n",
       "    }\n",
       "</style>\n",
       "<table border=\"1\" class=\"dataframe\">\n",
       "  <thead>\n",
       "    <tr style=\"text-align: right;\">\n",
       "      <th></th>\n",
       "      <th>Stations_id</th>\n",
       "      <th>von_datum</th>\n",
       "      <th>bis_datum</th>\n",
       "      <th>Stationshoehe</th>\n",
       "      <th>geoBreite</th>\n",
       "      <th>geoLaenge</th>\n",
       "      <th>Stationsname</th>\n",
       "      <th>Bundesland</th>\n",
       "    </tr>\n",
       "  </thead>\n",
       "  <tbody>\n",
       "    <tr>\n",
       "      <th>0</th>\n",
       "      <td>1</td>\n",
       "      <td>19310101</td>\n",
       "      <td>19860630</td>\n",
       "      <td>478</td>\n",
       "      <td>47.8413</td>\n",
       "      <td>8.8493</td>\n",
       "      <td>Aach</td>\n",
       "      <td>Baden-Württemberg</td>\n",
       "    </tr>\n",
       "    <tr>\n",
       "      <th>1</th>\n",
       "      <td>3</td>\n",
       "      <td>18510101</td>\n",
       "      <td>20110331</td>\n",
       "      <td>202</td>\n",
       "      <td>50.7827</td>\n",
       "      <td>6.0941</td>\n",
       "      <td>Aachen</td>\n",
       "      <td>Nordrhein-Westfalen</td>\n",
       "    </tr>\n",
       "    <tr>\n",
       "      <th>2</th>\n",
       "      <td>44</td>\n",
       "      <td>19710301</td>\n",
       "      <td>20231231</td>\n",
       "      <td>44</td>\n",
       "      <td>52.9336</td>\n",
       "      <td>8.2370</td>\n",
       "      <td>Großenkneten</td>\n",
       "      <td>Niedersachsen</td>\n",
       "    </tr>\n",
       "    <tr>\n",
       "      <th>3</th>\n",
       "      <td>52</td>\n",
       "      <td>19730101</td>\n",
       "      <td>20011231</td>\n",
       "      <td>46</td>\n",
       "      <td>53.6623</td>\n",
       "      <td>10.1990</td>\n",
       "      <td>Ahrensburg-Wulfsdorf</td>\n",
       "      <td>Schleswig-Holstein</td>\n",
       "    </tr>\n",
       "    <tr>\n",
       "      <th>4</th>\n",
       "      <td>61</td>\n",
       "      <td>19750701</td>\n",
       "      <td>19780831</td>\n",
       "      <td>339</td>\n",
       "      <td>48.8443</td>\n",
       "      <td>12.6171</td>\n",
       "      <td>Aiterhofen</td>\n",
       "      <td>Bayern</td>\n",
       "    </tr>\n",
       "  </tbody>\n",
       "</table>\n",
       "</div>"
      ],
      "text/plain": [
       "   Stations_id  von_datum  bis_datum  Stationshoehe  geoBreite  geoLaenge  \\\n",
       "0            1   19310101   19860630            478    47.8413     8.8493   \n",
       "1            3   18510101   20110331            202    50.7827     6.0941   \n",
       "2           44   19710301   20231231             44    52.9336     8.2370   \n",
       "3           52   19730101   20011231             46    53.6623    10.1990   \n",
       "4           61   19750701   19780831            339    48.8443    12.6171   \n",
       "\n",
       "           Stationsname           Bundesland  \n",
       "0                  Aach    Baden-Württemberg  \n",
       "1                Aachen  Nordrhein-Westfalen  \n",
       "2          Großenkneten        Niedersachsen  \n",
       "3  Ahrensburg-Wulfsdorf   Schleswig-Holstein  \n",
       "4            Aiterhofen               Bayern  "
      ]
     },
     "execution_count": 3,
     "metadata": {},
     "output_type": "execute_result"
    }
   ],
   "source": [
    "# Preview the first few rows of the data\n",
    "station_df.head()"
   ]
  },
  {
   "cell_type": "code",
   "execution_count": 4,
   "id": "a0d488ba",
   "metadata": {},
   "outputs": [
    {
     "data": {
      "text/plain": [
       "Index(['Stations_id', 'von_datum', 'bis_datum', 'Stationshoehe', 'geoBreite',\n",
       "       'geoLaenge', 'Stationsname', 'Bundesland'],\n",
       "      dtype='object')"
      ]
     },
     "execution_count": 4,
     "metadata": {},
     "output_type": "execute_result"
    }
   ],
   "source": [
    "# List all columns to understand the available data\n",
    "station_df.columns"
   ]
  },
  {
   "cell_type": "markdown",
   "id": "ac784315",
   "metadata": {},
   "source": [
    "#### Convert the date columns to datetime format"
   ]
  },
  {
   "cell_type": "code",
   "execution_count": 5,
   "id": "75213aa7",
   "metadata": {},
   "outputs": [],
   "source": [
    "# Convert the date columns to datetime format for proper comparison\n",
    "station_df['von_datum'] = pd.to_datetime(station_df['von_datum'], format='%Y%m%d')\n",
    "station_df['bis_datum'] = pd.to_datetime(station_df['bis_datum'], format='%Y%m%d')"
   ]
  },
  {
   "cell_type": "markdown",
   "id": "2869178e",
   "metadata": {},
   "source": [
    "#### Filter the stations"
   ]
  },
  {
   "cell_type": "code",
   "execution_count": 6,
   "id": "6a7e273f",
   "metadata": {},
   "outputs": [],
   "source": [
    "# Filter the stations\n",
    "filtered_stations = station_df[\n",
    "    (station_df['Bundesland'].str.strip() == 'Baden-Württemberg') & \n",
    "    (station_df['bis_datum'] >= pd.Timestamp('2022-9-30')) &  # Assuming active stations have a future end date\n",
    "    (station_df['von_datum'] < pd.Timestamp('1950-01-01'))\n",
    "]"
   ]
  },
  {
   "cell_type": "markdown",
   "id": "07459d36",
   "metadata": {},
   "source": [
    "#### Pre-viewing the filtered stations"
   ]
  },
  {
   "cell_type": "code",
   "execution_count": 7,
   "id": "0f88eba2",
   "metadata": {},
   "outputs": [
    {
     "data": {
      "text/html": [
       "<div>\n",
       "<style scoped>\n",
       "    .dataframe tbody tr th:only-of-type {\n",
       "        vertical-align: middle;\n",
       "    }\n",
       "\n",
       "    .dataframe tbody tr th {\n",
       "        vertical-align: top;\n",
       "    }\n",
       "\n",
       "    .dataframe thead th {\n",
       "        text-align: right;\n",
       "    }\n",
       "</style>\n",
       "<table border=\"1\" class=\"dataframe\">\n",
       "  <thead>\n",
       "    <tr style=\"text-align: right;\">\n",
       "      <th></th>\n",
       "      <th>Stations_id</th>\n",
       "      <th>von_datum</th>\n",
       "      <th>bis_datum</th>\n",
       "      <th>Stationshoehe</th>\n",
       "      <th>geoBreite</th>\n",
       "      <th>geoLaenge</th>\n",
       "      <th>Stationsname</th>\n",
       "      <th>Bundesland</th>\n",
       "    </tr>\n",
       "  </thead>\n",
       "  <tbody>\n",
       "    <tr>\n",
       "      <th>50</th>\n",
       "      <td>257</td>\n",
       "      <td>1881-01-01</td>\n",
       "      <td>2023-12-31</td>\n",
       "      <td>240</td>\n",
       "      <td>48.7270</td>\n",
       "      <td>8.2457</td>\n",
       "      <td>Baden-Baden-Geroldsau</td>\n",
       "      <td>Baden-Württemberg</td>\n",
       "    </tr>\n",
       "    <tr>\n",
       "      <th>51</th>\n",
       "      <td>259</td>\n",
       "      <td>1881-01-01</td>\n",
       "      <td>2023-12-31</td>\n",
       "      <td>275</td>\n",
       "      <td>47.8064</td>\n",
       "      <td>7.6387</td>\n",
       "      <td>Müllheim</td>\n",
       "      <td>Baden-Württemberg</td>\n",
       "    </tr>\n",
       "    <tr>\n",
       "      <th>158</th>\n",
       "      <td>755</td>\n",
       "      <td>1881-01-01</td>\n",
       "      <td>2023-12-31</td>\n",
       "      <td>340</td>\n",
       "      <td>49.5182</td>\n",
       "      <td>9.3213</td>\n",
       "      <td>Buchen, Baden-Württemberg Neckar-Odenwald</td>\n",
       "      <td>Baden-Württemberg</td>\n",
       "    </tr>\n",
       "    <tr>\n",
       "      <th>239</th>\n",
       "      <td>1197</td>\n",
       "      <td>1931-01-01</td>\n",
       "      <td>2023-12-31</td>\n",
       "      <td>463</td>\n",
       "      <td>48.9895</td>\n",
       "      <td>10.1312</td>\n",
       "      <td>Ellwangen-Rindelbach</td>\n",
       "      <td>Baden-Württemberg</td>\n",
       "    </tr>\n",
       "    <tr>\n",
       "      <th>275</th>\n",
       "      <td>1346</td>\n",
       "      <td>1921-01-01</td>\n",
       "      <td>2023-12-31</td>\n",
       "      <td>1486</td>\n",
       "      <td>47.8748</td>\n",
       "      <td>8.0038</td>\n",
       "      <td>Feldberg/Schwarzwald</td>\n",
       "      <td>Baden-Württemberg</td>\n",
       "    </tr>\n",
       "  </tbody>\n",
       "</table>\n",
       "</div>"
      ],
      "text/plain": [
       "     Stations_id  von_datum  bis_datum  Stationshoehe  geoBreite  geoLaenge  \\\n",
       "50           257 1881-01-01 2023-12-31            240    48.7270     8.2457   \n",
       "51           259 1881-01-01 2023-12-31            275    47.8064     7.6387   \n",
       "158          755 1881-01-01 2023-12-31            340    49.5182     9.3213   \n",
       "239         1197 1931-01-01 2023-12-31            463    48.9895    10.1312   \n",
       "275         1346 1921-01-01 2023-12-31           1486    47.8748     8.0038   \n",
       "\n",
       "                                  Stationsname         Bundesland  \n",
       "50                       Baden-Baden-Geroldsau  Baden-Württemberg  \n",
       "51                                    Müllheim  Baden-Württemberg  \n",
       "158  Buchen, Baden-Württemberg Neckar-Odenwald  Baden-Württemberg  \n",
       "239                       Ellwangen-Rindelbach  Baden-Württemberg  \n",
       "275                       Feldberg/Schwarzwald  Baden-Württemberg  "
      ]
     },
     "execution_count": 7,
     "metadata": {},
     "output_type": "execute_result"
    }
   ],
   "source": [
    "filtered_stations.head()"
   ]
  },
  {
   "cell_type": "code",
   "execution_count": 8,
   "id": "135ef80a",
   "metadata": {
    "scrolled": true
   },
   "outputs": [
    {
     "name": "stdout",
     "output_type": "stream",
     "text": [
      "<class 'pandas.core.frame.DataFrame'>\n",
      "Int64Index: 26 entries, 50 to 1070\n",
      "Data columns (total 8 columns):\n",
      " #   Column         Non-Null Count  Dtype         \n",
      "---  ------         --------------  -----         \n",
      " 0   Stations_id    26 non-null     int64         \n",
      " 1   von_datum      26 non-null     datetime64[ns]\n",
      " 2   bis_datum      26 non-null     datetime64[ns]\n",
      " 3   Stationshoehe  26 non-null     int64         \n",
      " 4   geoBreite      26 non-null     float64       \n",
      " 5   geoLaenge      26 non-null     float64       \n",
      " 6   Stationsname   26 non-null     object        \n",
      " 7   Bundesland     26 non-null     object        \n",
      "dtypes: datetime64[ns](2), float64(2), int64(2), object(2)\n",
      "memory usage: 1.8+ KB\n"
     ]
    }
   ],
   "source": [
    "filtered_stations.info()"
   ]
  },
  {
   "cell_type": "markdown",
   "id": "e25014e8",
   "metadata": {},
   "source": [
    "#### Verifying the no. of filtered stations"
   ]
  },
  {
   "cell_type": "code",
   "execution_count": 9,
   "id": "98e28ba3",
   "metadata": {},
   "outputs": [],
   "source": [
    "selected_stations = filtered_stations.head(26)"
   ]
  },
  {
   "cell_type": "code",
   "execution_count": 10,
   "id": "397b7502",
   "metadata": {},
   "outputs": [
    {
     "name": "stdout",
     "output_type": "stream",
     "text": [
      "Number of selected stations: 26\n"
     ]
    },
    {
     "data": {
      "text/html": [
       "<div>\n",
       "<style scoped>\n",
       "    .dataframe tbody tr th:only-of-type {\n",
       "        vertical-align: middle;\n",
       "    }\n",
       "\n",
       "    .dataframe tbody tr th {\n",
       "        vertical-align: top;\n",
       "    }\n",
       "\n",
       "    .dataframe thead th {\n",
       "        text-align: right;\n",
       "    }\n",
       "</style>\n",
       "<table border=\"1\" class=\"dataframe\">\n",
       "  <thead>\n",
       "    <tr style=\"text-align: right;\">\n",
       "      <th></th>\n",
       "      <th>Stations_id</th>\n",
       "      <th>von_datum</th>\n",
       "      <th>bis_datum</th>\n",
       "      <th>Stationshoehe</th>\n",
       "      <th>geoBreite</th>\n",
       "      <th>geoLaenge</th>\n",
       "      <th>Stationsname</th>\n",
       "      <th>Bundesland</th>\n",
       "    </tr>\n",
       "  </thead>\n",
       "  <tbody>\n",
       "    <tr>\n",
       "      <th>50</th>\n",
       "      <td>257</td>\n",
       "      <td>1881-01-01</td>\n",
       "      <td>2023-12-31</td>\n",
       "      <td>240</td>\n",
       "      <td>48.7270</td>\n",
       "      <td>8.2457</td>\n",
       "      <td>Baden-Baden-Geroldsau</td>\n",
       "      <td>Baden-Württemberg</td>\n",
       "    </tr>\n",
       "    <tr>\n",
       "      <th>51</th>\n",
       "      <td>259</td>\n",
       "      <td>1881-01-01</td>\n",
       "      <td>2023-12-31</td>\n",
       "      <td>275</td>\n",
       "      <td>47.8064</td>\n",
       "      <td>7.6387</td>\n",
       "      <td>Müllheim</td>\n",
       "      <td>Baden-Württemberg</td>\n",
       "    </tr>\n",
       "    <tr>\n",
       "      <th>158</th>\n",
       "      <td>755</td>\n",
       "      <td>1881-01-01</td>\n",
       "      <td>2023-12-31</td>\n",
       "      <td>340</td>\n",
       "      <td>49.5182</td>\n",
       "      <td>9.3213</td>\n",
       "      <td>Buchen, Baden-Württemberg Neckar-Odenwald</td>\n",
       "      <td>Baden-Württemberg</td>\n",
       "    </tr>\n",
       "    <tr>\n",
       "      <th>239</th>\n",
       "      <td>1197</td>\n",
       "      <td>1931-01-01</td>\n",
       "      <td>2023-12-31</td>\n",
       "      <td>463</td>\n",
       "      <td>48.9895</td>\n",
       "      <td>10.1312</td>\n",
       "      <td>Ellwangen-Rindelbach</td>\n",
       "      <td>Baden-Württemberg</td>\n",
       "    </tr>\n",
       "    <tr>\n",
       "      <th>275</th>\n",
       "      <td>1346</td>\n",
       "      <td>1921-01-01</td>\n",
       "      <td>2023-12-31</td>\n",
       "      <td>1486</td>\n",
       "      <td>47.8748</td>\n",
       "      <td>8.0038</td>\n",
       "      <td>Feldberg/Schwarzwald</td>\n",
       "      <td>Baden-Württemberg</td>\n",
       "    </tr>\n",
       "    <tr>\n",
       "      <th>296</th>\n",
       "      <td>1443</td>\n",
       "      <td>1869-01-01</td>\n",
       "      <td>2024-07-31</td>\n",
       "      <td>237</td>\n",
       "      <td>48.0232</td>\n",
       "      <td>7.8343</td>\n",
       "      <td>Freiburg</td>\n",
       "      <td>Baden-Württemberg</td>\n",
       "    </tr>\n",
       "    <tr>\n",
       "      <th>300</th>\n",
       "      <td>1468</td>\n",
       "      <td>1881-01-01</td>\n",
       "      <td>2023-12-31</td>\n",
       "      <td>797</td>\n",
       "      <td>48.4538</td>\n",
       "      <td>8.4090</td>\n",
       "      <td>Freudenstadt</td>\n",
       "      <td>Baden-Württemberg</td>\n",
       "    </tr>\n",
       "    <tr>\n",
       "      <th>323</th>\n",
       "      <td>1602</td>\n",
       "      <td>1888-01-01</td>\n",
       "      <td>2023-12-31</td>\n",
       "      <td>177</td>\n",
       "      <td>48.4330</td>\n",
       "      <td>7.9930</td>\n",
       "      <td>Ohlsbach</td>\n",
       "      <td>Baden-Württemberg</td>\n",
       "    </tr>\n",
       "    <tr>\n",
       "      <th>388</th>\n",
       "      <td>2074</td>\n",
       "      <td>1881-01-01</td>\n",
       "      <td>2023-12-31</td>\n",
       "      <td>518</td>\n",
       "      <td>48.3752</td>\n",
       "      <td>8.9800</td>\n",
       "      <td>Hechingen</td>\n",
       "      <td>Baden-Württemberg</td>\n",
       "    </tr>\n",
       "    <tr>\n",
       "      <th>495</th>\n",
       "      <td>2638</td>\n",
       "      <td>1928-01-01</td>\n",
       "      <td>2023-12-31</td>\n",
       "      <td>974</td>\n",
       "      <td>48.1054</td>\n",
       "      <td>8.7548</td>\n",
       "      <td>Klippeneck</td>\n",
       "      <td>Baden-Württemberg</td>\n",
       "    </tr>\n",
       "    <tr>\n",
       "      <th>512</th>\n",
       "      <td>2712</td>\n",
       "      <td>1947-01-01</td>\n",
       "      <td>2023-12-31</td>\n",
       "      <td>428</td>\n",
       "      <td>47.6952</td>\n",
       "      <td>9.1307</td>\n",
       "      <td>Konstanz</td>\n",
       "      <td>Baden-Württemberg</td>\n",
       "    </tr>\n",
       "    <tr>\n",
       "      <th>529</th>\n",
       "      <td>2814</td>\n",
       "      <td>1949-01-01</td>\n",
       "      <td>2023-12-31</td>\n",
       "      <td>687</td>\n",
       "      <td>48.5122</td>\n",
       "      <td>9.7644</td>\n",
       "      <td>Merklingen</td>\n",
       "      <td>Baden-Württemberg</td>\n",
       "    </tr>\n",
       "    <tr>\n",
       "      <th>557</th>\n",
       "      <td>2953</td>\n",
       "      <td>1946-01-01</td>\n",
       "      <td>2023-12-31</td>\n",
       "      <td>854</td>\n",
       "      <td>47.8597</td>\n",
       "      <td>8.2308</td>\n",
       "      <td>Lenzkirch-Ruhbühl</td>\n",
       "      <td>Baden-Württemberg</td>\n",
       "    </tr>\n",
       "    <tr>\n",
       "      <th>621</th>\n",
       "      <td>3257</td>\n",
       "      <td>1881-01-01</td>\n",
       "      <td>2022-09-30</td>\n",
       "      <td>278</td>\n",
       "      <td>49.4797</td>\n",
       "      <td>9.7832</td>\n",
       "      <td>Mergentheim, Baden-Württemberg</td>\n",
       "      <td>Baden-Württemberg</td>\n",
       "    </tr>\n",
       "    <tr>\n",
       "      <th>626</th>\n",
       "      <td>3278</td>\n",
       "      <td>1925-01-01</td>\n",
       "      <td>2023-12-31</td>\n",
       "      <td>354</td>\n",
       "      <td>48.5377</td>\n",
       "      <td>9.2734</td>\n",
       "      <td>Metzingen</td>\n",
       "      <td>Baden-Württemberg</td>\n",
       "    </tr>\n",
       "    <tr>\n",
       "      <th>651</th>\n",
       "      <td>3402</td>\n",
       "      <td>1881-01-01</td>\n",
       "      <td>2023-12-31</td>\n",
       "      <td>755</td>\n",
       "      <td>48.3851</td>\n",
       "      <td>9.4837</td>\n",
       "      <td>Münsingen-Apfelstetten</td>\n",
       "      <td>Baden-Württemberg</td>\n",
       "    </tr>\n",
       "    <tr>\n",
       "      <th>714</th>\n",
       "      <td>3761</td>\n",
       "      <td>1947-01-01</td>\n",
       "      <td>2023-12-31</td>\n",
       "      <td>276</td>\n",
       "      <td>49.2070</td>\n",
       "      <td>9.5176</td>\n",
       "      <td>Öhringen</td>\n",
       "      <td>Baden-Württemberg</td>\n",
       "    </tr>\n",
       "    <tr>\n",
       "      <th>763</th>\n",
       "      <td>4094</td>\n",
       "      <td>1919-01-01</td>\n",
       "      <td>2023-12-31</td>\n",
       "      <td>441</td>\n",
       "      <td>47.8062</td>\n",
       "      <td>9.6206</td>\n",
       "      <td>Weingarten, Baden-Württemberg Ravensburg</td>\n",
       "      <td>Baden-Württemberg</td>\n",
       "    </tr>\n",
       "    <tr>\n",
       "      <th>775</th>\n",
       "      <td>4169</td>\n",
       "      <td>1929-01-01</td>\n",
       "      <td>2023-12-31</td>\n",
       "      <td>131</td>\n",
       "      <td>48.6703</td>\n",
       "      <td>7.9939</td>\n",
       "      <td>Rheinau-Memprechtshofen</td>\n",
       "      <td>Baden-Württemberg</td>\n",
       "    </tr>\n",
       "    <tr>\n",
       "      <th>778</th>\n",
       "      <td>4177</td>\n",
       "      <td>1947-01-01</td>\n",
       "      <td>2023-12-31</td>\n",
       "      <td>116</td>\n",
       "      <td>48.9726</td>\n",
       "      <td>8.3301</td>\n",
       "      <td>Rheinstetten</td>\n",
       "      <td>Baden-Württemberg</td>\n",
       "    </tr>\n",
       "    <tr>\n",
       "      <th>793</th>\n",
       "      <td>4300</td>\n",
       "      <td>1911-01-01</td>\n",
       "      <td>2023-12-31</td>\n",
       "      <td>588</td>\n",
       "      <td>48.1815</td>\n",
       "      <td>8.6356</td>\n",
       "      <td>Rottweil</td>\n",
       "      <td>Baden-Württemberg</td>\n",
       "    </tr>\n",
       "    <tr>\n",
       "      <th>875</th>\n",
       "      <td>4703</td>\n",
       "      <td>1888-01-01</td>\n",
       "      <td>2023-12-31</td>\n",
       "      <td>581</td>\n",
       "      <td>48.0719</td>\n",
       "      <td>9.1943</td>\n",
       "      <td>Sigmaringen-Laiz</td>\n",
       "      <td>Baden-Württemberg</td>\n",
       "    </tr>\n",
       "    <tr>\n",
       "      <th>899</th>\n",
       "      <td>4887</td>\n",
       "      <td>1947-01-01</td>\n",
       "      <td>2023-12-31</td>\n",
       "      <td>734</td>\n",
       "      <td>48.6656</td>\n",
       "      <td>9.8648</td>\n",
       "      <td>Stötten</td>\n",
       "      <td>Baden-Württemberg</td>\n",
       "    </tr>\n",
       "    <tr>\n",
       "      <th>905</th>\n",
       "      <td>4931</td>\n",
       "      <td>1941-01-01</td>\n",
       "      <td>2023-12-31</td>\n",
       "      <td>371</td>\n",
       "      <td>48.6883</td>\n",
       "      <td>9.2235</td>\n",
       "      <td>Stuttgart-Echterdingen</td>\n",
       "      <td>Baden-Württemberg</td>\n",
       "    </tr>\n",
       "    <tr>\n",
       "      <th>956</th>\n",
       "      <td>5229</td>\n",
       "      <td>1881-01-01</td>\n",
       "      <td>2023-12-31</td>\n",
       "      <td>719</td>\n",
       "      <td>48.0453</td>\n",
       "      <td>8.4608</td>\n",
       "      <td>Villingen-Schwenningen</td>\n",
       "      <td>Baden-Württemberg</td>\n",
       "    </tr>\n",
       "    <tr>\n",
       "      <th>1070</th>\n",
       "      <td>5906</td>\n",
       "      <td>1881-01-01</td>\n",
       "      <td>2023-12-31</td>\n",
       "      <td>98</td>\n",
       "      <td>49.5063</td>\n",
       "      <td>8.5584</td>\n",
       "      <td>Mannheim</td>\n",
       "      <td>Baden-Württemberg</td>\n",
       "    </tr>\n",
       "  </tbody>\n",
       "</table>\n",
       "</div>"
      ],
      "text/plain": [
       "      Stations_id  von_datum  bis_datum  Stationshoehe  geoBreite  geoLaenge  \\\n",
       "50            257 1881-01-01 2023-12-31            240    48.7270     8.2457   \n",
       "51            259 1881-01-01 2023-12-31            275    47.8064     7.6387   \n",
       "158           755 1881-01-01 2023-12-31            340    49.5182     9.3213   \n",
       "239          1197 1931-01-01 2023-12-31            463    48.9895    10.1312   \n",
       "275          1346 1921-01-01 2023-12-31           1486    47.8748     8.0038   \n",
       "296          1443 1869-01-01 2024-07-31            237    48.0232     7.8343   \n",
       "300          1468 1881-01-01 2023-12-31            797    48.4538     8.4090   \n",
       "323          1602 1888-01-01 2023-12-31            177    48.4330     7.9930   \n",
       "388          2074 1881-01-01 2023-12-31            518    48.3752     8.9800   \n",
       "495          2638 1928-01-01 2023-12-31            974    48.1054     8.7548   \n",
       "512          2712 1947-01-01 2023-12-31            428    47.6952     9.1307   \n",
       "529          2814 1949-01-01 2023-12-31            687    48.5122     9.7644   \n",
       "557          2953 1946-01-01 2023-12-31            854    47.8597     8.2308   \n",
       "621          3257 1881-01-01 2022-09-30            278    49.4797     9.7832   \n",
       "626          3278 1925-01-01 2023-12-31            354    48.5377     9.2734   \n",
       "651          3402 1881-01-01 2023-12-31            755    48.3851     9.4837   \n",
       "714          3761 1947-01-01 2023-12-31            276    49.2070     9.5176   \n",
       "763          4094 1919-01-01 2023-12-31            441    47.8062     9.6206   \n",
       "775          4169 1929-01-01 2023-12-31            131    48.6703     7.9939   \n",
       "778          4177 1947-01-01 2023-12-31            116    48.9726     8.3301   \n",
       "793          4300 1911-01-01 2023-12-31            588    48.1815     8.6356   \n",
       "875          4703 1888-01-01 2023-12-31            581    48.0719     9.1943   \n",
       "899          4887 1947-01-01 2023-12-31            734    48.6656     9.8648   \n",
       "905          4931 1941-01-01 2023-12-31            371    48.6883     9.2235   \n",
       "956          5229 1881-01-01 2023-12-31            719    48.0453     8.4608   \n",
       "1070         5906 1881-01-01 2023-12-31             98    49.5063     8.5584   \n",
       "\n",
       "                                   Stationsname         Bundesland  \n",
       "50                        Baden-Baden-Geroldsau  Baden-Württemberg  \n",
       "51                                     Müllheim  Baden-Württemberg  \n",
       "158   Buchen, Baden-Württemberg Neckar-Odenwald  Baden-Württemberg  \n",
       "239                        Ellwangen-Rindelbach  Baden-Württemberg  \n",
       "275                        Feldberg/Schwarzwald  Baden-Württemberg  \n",
       "296                                    Freiburg  Baden-Württemberg  \n",
       "300                                Freudenstadt  Baden-Württemberg  \n",
       "323                                    Ohlsbach  Baden-Württemberg  \n",
       "388                                   Hechingen  Baden-Württemberg  \n",
       "495                                  Klippeneck  Baden-Württemberg  \n",
       "512                                    Konstanz  Baden-Württemberg  \n",
       "529                                  Merklingen  Baden-Württemberg  \n",
       "557                           Lenzkirch-Ruhbühl  Baden-Württemberg  \n",
       "621              Mergentheim, Baden-Württemberg  Baden-Württemberg  \n",
       "626                                   Metzingen  Baden-Württemberg  \n",
       "651                      Münsingen-Apfelstetten  Baden-Württemberg  \n",
       "714                                    Öhringen  Baden-Württemberg  \n",
       "763    Weingarten, Baden-Württemberg Ravensburg  Baden-Württemberg  \n",
       "775                     Rheinau-Memprechtshofen  Baden-Württemberg  \n",
       "778                                Rheinstetten  Baden-Württemberg  \n",
       "793                                    Rottweil  Baden-Württemberg  \n",
       "875                            Sigmaringen-Laiz  Baden-Württemberg  \n",
       "899                                     Stötten  Baden-Württemberg  \n",
       "905                      Stuttgart-Echterdingen  Baden-Württemberg  \n",
       "956                      Villingen-Schwenningen  Baden-Württemberg  \n",
       "1070                                   Mannheim  Baden-Württemberg  "
      ]
     },
     "execution_count": 10,
     "metadata": {},
     "output_type": "execute_result"
    }
   ],
   "source": [
    "# Verify the number of selected stations\n",
    "print(f\"Number of selected stations: {len(selected_stations)}\")\n",
    "\n",
    "# Display the selected stations\n",
    "selected_stations[['Stations_id', 'von_datum', 'bis_datum', 'Stationshoehe', 'geoBreite',\n",
    "       'geoLaenge', 'Stationsname', 'Bundesland']]\n"
   ]
  },
  {
   "cell_type": "markdown",
   "id": "52ce0032",
   "metadata": {},
   "source": [
    "#### Force the date columns into a standard format"
   ]
  },
  {
   "cell_type": "code",
   "execution_count": 14,
   "id": "4f41282b",
   "metadata": {},
   "outputs": [],
   "source": [
    "# Force the date columns into a standard format\n",
    "filtered_stations['von_datum'] = pd.to_datetime(filtered_stations['von_datum'], errors='coerce')\n",
    "filtered_stations['bis_datum'] = pd.to_datetime(filtered_stations['bis_datum'], errors='coerce')"
   ]
  },
  {
   "cell_type": "markdown",
   "id": "c22215be",
   "metadata": {},
   "source": [
    "#### Convert the date columns to a string format"
   ]
  },
  {
   "cell_type": "code",
   "execution_count": 20,
   "id": "b9bc6457",
   "metadata": {},
   "outputs": [
    {
     "name": "stderr",
     "output_type": "stream",
     "text": [
      "C:\\Users\\Administrator\\AppData\\Local\\Temp\\ipykernel_9364\\1407585808.py:1: SettingWithCopyWarning: \n",
      "A value is trying to be set on a copy of a slice from a DataFrame.\n",
      "Try using .loc[row_indexer,col_indexer] = value instead\n",
      "\n",
      "See the caveats in the documentation: https://pandas.pydata.org/pandas-docs/stable/user_guide/indexing.html#returning-a-view-versus-a-copy\n",
      "  filtered_stations['von_datum'] = filtered_stations['von_datum'].dt.strftime('%Y-%m-%d')\n",
      "C:\\Users\\Administrator\\AppData\\Local\\Temp\\ipykernel_9364\\1407585808.py:2: SettingWithCopyWarning: \n",
      "A value is trying to be set on a copy of a slice from a DataFrame.\n",
      "Try using .loc[row_indexer,col_indexer] = value instead\n",
      "\n",
      "See the caveats in the documentation: https://pandas.pydata.org/pandas-docs/stable/user_guide/indexing.html#returning-a-view-versus-a-copy\n",
      "  filtered_stations['bis_datum'] = filtered_stations['bis_datum'].dt.strftime('%Y-%m-%d')\n"
     ]
    }
   ],
   "source": [
    "#convert the date columns to a string format that Excel can understand\n",
    "filtered_stations['von_datum'] = filtered_stations['von_datum'].dt.strftime('%Y-%m-%d')\n",
    "filtered_stations['bis_datum'] = filtered_stations['bis_datum'].dt.strftime('%Y-%m-%d')"
   ]
  },
  {
   "cell_type": "markdown",
   "id": "22b6e13c",
   "metadata": {},
   "source": [
    "#### Save the DataFrame to an Excel file"
   ]
  },
  {
   "cell_type": "code",
   "execution_count": 22,
   "id": "18d01bb4",
   "metadata": {},
   "outputs": [],
   "source": [
    "# Save the DataFrame to an Excel file\n",
    "filtered_stations.to_excel('filtered_stations_Baden_Wurttemberg.xlsx', \n",
    "                           index=False)"
   ]
  },
  {
   "cell_type": "markdown",
   "id": "4e370d38",
   "metadata": {},
   "source": [
    "### Sub-Task 1.2:"
   ]
  },
  {
   "cell_type": "markdown",
   "id": "2f57d296",
   "metadata": {},
   "source": [
    "#### Load the filtered stations dataset"
   ]
  },
  {
   "cell_type": "code",
   "execution_count": 24,
   "id": "4abee13b",
   "metadata": {},
   "outputs": [],
   "source": [
    "# Load the filtered stations dataset\n",
    "filtered_stations = pd.read_excel('filtered_stations_Baden_Wurttemberg.xlsx')"
   ]
  },
  {
   "cell_type": "markdown",
   "id": "9680f6bf",
   "metadata": {},
   "source": [
    "#### Convert the DataFrame to a GeoDataFrame"
   ]
  },
  {
   "cell_type": "code",
   "execution_count": 27,
   "id": "30ca3635",
   "metadata": {},
   "outputs": [],
   "source": [
    "#import geopandas as gpd\n",
    "#from shapely.geometry import Point\n",
    "\n",
    "# Convert the DataFrame to a GeoDataFrame\n",
    "filtered_stations['geometry'] = filtered_stations.apply(lambda row: Point(row['geoLaenge'], row['geoBreite']), axis=1)\n",
    "gdf = gpd.GeoDataFrame(filtered_stations, geometry='geometry', crs='EPSG:25832')\n"
   ]
  },
  {
   "cell_type": "markdown",
   "id": "e3e30953",
   "metadata": {},
   "source": [
    "##### Convert the filtered DataFrame into a GeoDataFrame by creating Point geometries from the geoBreite (latitude) and geoLaenge (longitude) columns. Set the CRS (Coordinate Reference System) directly to EPSG:25832"
   ]
  },
  {
   "cell_type": "markdown",
   "id": "265b999f",
   "metadata": {},
   "source": [
    "#### Save GeoDataFrame to a Geopackage file"
   ]
  },
  {
   "cell_type": "code",
   "execution_count": 28,
   "id": "88c23427",
   "metadata": {},
   "outputs": [],
   "source": [
    "# Save GeoDataFrame to a Geopackage file\n",
    "gdf.to_file('stations_BW.gpkg', driver='GPKG')"
   ]
  },
  {
   "cell_type": "markdown",
   "id": "101d6145",
   "metadata": {},
   "source": [
    "### Sub-Task 1.3:"
   ]
  },
  {
   "cell_type": "markdown",
   "id": "7ca20d8a",
   "metadata": {},
   "source": [
    "#### Set Up the Environment"
   ]
  },
  {
   "cell_type": "code",
   "execution_count": 24,
   "id": "46f1ffe4",
   "metadata": {},
   "outputs": [],
   "source": [
    "# Base URL for the historical annual temperature data\n",
    "base_url = 'https://opendata.dwd.de/climate_environment/CDC/observations_germany/climate/annual/kl/historical/'\n",
    "\n",
    "# Directory where you want to save the downloaded files\n",
    "download_directory = 'downloaded_data'\n",
    "os.makedirs(download_directory, exist_ok=True)\n"
   ]
  },
  {
   "cell_type": "markdown",
   "id": "bae10750",
   "metadata": {},
   "source": [
    "#### Define the Download Function"
   ]
  },
  {
   "cell_type": "code",
   "execution_count": 25,
   "id": "6d435dba",
   "metadata": {},
   "outputs": [],
   "source": [
    "def download_zip_file(file_name):\n",
    "    # Construct the file URL based on the station ID\n",
    "    file_url = f\"{base_url}{file_name}\"\n",
    "    \n",
    "    # Define the file path where the downloaded file will be saved\n",
    "    file_path = os.path.join(download_directory, file_name)\n",
    "    \n",
    "    try:\n",
    "        # Make a request to the URL\n",
    "        response = requests.get(file_url)\n",
    "        response.raise_for_status()  # Raise an error if the request was not successful\n",
    "        \n",
    "        # Save the content to a ZIP file\n",
    "        with open(file_path, 'wb') as file:\n",
    "            file.write(response.content)\n",
    "        print(f\"Successfully downloaded {file_name}\")\n",
    "    except requests.exceptions.HTTPError as http_err:\n",
    "        print(f\"HTTP error occurred while downloading {file_name}: {http_err}\")\n",
    "    except Exception as err:\n",
    "        print(f\"An error occurred while downloading {file_name}: {err}\")"
   ]
  },
  {
   "cell_type": "markdown",
   "id": "caa3bfb6",
   "metadata": {},
   "source": [
    "####  Load and Filter Station Information"
   ]
  },
  {
   "cell_type": "code",
   "execution_count": 26,
   "id": "c05fad10",
   "metadata": {},
   "outputs": [],
   "source": [
    "# Load the DataFrame with selected station information (already filtered)\n",
    "selected_stations = pd.read_excel('filtered_stations_Baden_Wurttemberg.xlsx') \n",
    "\n",
    "# Ensure station IDs are formatted as strings and padded with zeros to a length of 5 digits\n",
    "selected_stations['Stations_id'] = selected_stations['Stations_id'].apply(lambda x: str(x).zfill(5))\n",
    "\n",
    "# Convert the dates to the format YYYYMMDD\n",
    "selected_stations['von_datum'] = pd.to_datetime(selected_stations['von_datum']).dt.strftime('%Y%m%d')\n",
    "selected_stations['bis_datum'] = pd.to_datetime(selected_stations['bis_datum']).dt.strftime('%Y%m%d')"
   ]
  },
  {
   "cell_type": "markdown",
   "id": "b8b078db",
   "metadata": {},
   "source": [
    "#### Construct the Correct File Names"
   ]
  },
  {
   "cell_type": "code",
   "execution_count": 27,
   "id": "00666c9a",
   "metadata": {},
   "outputs": [
    {
     "name": "stdout",
     "output_type": "stream",
     "text": [
      "['jahreswerte_KL_00257_18810101_20231231_hist.zip', 'jahreswerte_KL_00259_18810101_20231231_hist.zip', 'jahreswerte_KL_00755_18810101_20231231_hist.zip', 'jahreswerte_KL_01197_19310101_20231231_hist.zip', 'jahreswerte_KL_01346_19210101_20231231_hist.zip', 'jahreswerte_KL_01443_18690101_20240731_hist.zip', 'jahreswerte_KL_01468_18810101_20231231_hist.zip', 'jahreswerte_KL_01602_18880101_20231231_hist.zip', 'jahreswerte_KL_02074_18810101_20231231_hist.zip', 'jahreswerte_KL_02638_19280101_20231231_hist.zip', 'jahreswerte_KL_02712_19470101_20231231_hist.zip', 'jahreswerte_KL_02814_19490101_20231231_hist.zip', 'jahreswerte_KL_02953_19460101_20231231_hist.zip', 'jahreswerte_KL_03257_18810101_20220930_hist.zip', 'jahreswerte_KL_03278_19250101_20231231_hist.zip', 'jahreswerte_KL_03402_18810101_20231231_hist.zip', 'jahreswerte_KL_03761_19470101_20231231_hist.zip', 'jahreswerte_KL_04094_19190101_20231231_hist.zip', 'jahreswerte_KL_04169_19290101_20231231_hist.zip', 'jahreswerte_KL_04177_19470101_20231231_hist.zip', 'jahreswerte_KL_04300_19110101_20231231_hist.zip', 'jahreswerte_KL_04703_18880101_20231231_hist.zip', 'jahreswerte_KL_04887_19470101_20231231_hist.zip', 'jahreswerte_KL_04931_19410101_20231231_hist.zip', 'jahreswerte_KL_05229_18810101_20231231_hist.zip', 'jahreswerte_KL_05906_18810101_20231231_hist.zip']\n"
     ]
    }
   ],
   "source": [
    "# Generate the expected ZIP file names based on the formatted station IDs and dates\n",
    "selected_stations['zip_file_name'] = selected_stations.apply(\n",
    "    lambda row: f\"jahreswerte_KL_{row['Stations_id']}_{row['von_datum']}_{row['bis_datum']}_hist.zip\", axis=1)\n",
    "\n",
    "# Extract the list of ZIP file names\n",
    "zip_files = selected_stations['zip_file_name'].tolist()\n",
    "\n",
    "# Let's print out the zip_files list to check the output\n",
    "print(zip_files)"
   ]
  },
  {
   "cell_type": "markdown",
   "id": "abaf869a",
   "metadata": {},
   "source": [
    "#### Download Data for All Selected Stations"
   ]
  },
  {
   "cell_type": "code",
   "execution_count": 28,
   "id": "b55d2a48",
   "metadata": {},
   "outputs": [
    {
     "name": "stdout",
     "output_type": "stream",
     "text": [
      "Successfully downloaded jahreswerte_KL_00257_18810101_20231231_hist.zip\n",
      "Successfully downloaded jahreswerte_KL_00259_18810101_20231231_hist.zip\n",
      "Successfully downloaded jahreswerte_KL_00755_18810101_20231231_hist.zip\n",
      "Successfully downloaded jahreswerte_KL_01197_19310101_20231231_hist.zip\n",
      "Successfully downloaded jahreswerte_KL_01346_19210101_20231231_hist.zip\n",
      "HTTP error occurred while downloading jahreswerte_KL_01443_18690101_20240731_hist.zip: 404 Client Error: Not Found for url: https://opendata.dwd.de/climate_environment/CDC/observations_germany/climate/annual/kl/historical/jahreswerte_KL_01443_18690101_20240731_hist.zip\n",
      "Successfully downloaded jahreswerte_KL_01468_18810101_20231231_hist.zip\n",
      "Successfully downloaded jahreswerte_KL_01602_18880101_20231231_hist.zip\n",
      "Successfully downloaded jahreswerte_KL_02074_18810101_20231231_hist.zip\n",
      "Successfully downloaded jahreswerte_KL_02638_19280101_20231231_hist.zip\n",
      "Successfully downloaded jahreswerte_KL_02712_19470101_20231231_hist.zip\n",
      "Successfully downloaded jahreswerte_KL_02814_19490101_20231231_hist.zip\n",
      "Successfully downloaded jahreswerte_KL_02953_19460101_20231231_hist.zip\n",
      "Successfully downloaded jahreswerte_KL_03257_18810101_20220930_hist.zip\n",
      "Successfully downloaded jahreswerte_KL_03278_19250101_20231231_hist.zip\n",
      "Successfully downloaded jahreswerte_KL_03402_18810101_20231231_hist.zip\n",
      "Successfully downloaded jahreswerte_KL_03761_19470101_20231231_hist.zip\n",
      "Successfully downloaded jahreswerte_KL_04094_19190101_20231231_hist.zip\n",
      "Successfully downloaded jahreswerte_KL_04169_19290101_20231231_hist.zip\n",
      "Successfully downloaded jahreswerte_KL_04177_19470101_20231231_hist.zip\n",
      "Successfully downloaded jahreswerte_KL_04300_19110101_20231231_hist.zip\n",
      "Successfully downloaded jahreswerte_KL_04703_18880101_20231231_hist.zip\n",
      "Successfully downloaded jahreswerte_KL_04887_19470101_20231231_hist.zip\n",
      "Successfully downloaded jahreswerte_KL_04931_19410101_20231231_hist.zip\n",
      "Successfully downloaded jahreswerte_KL_05229_18810101_20231231_hist.zip\n",
      "Successfully downloaded jahreswerte_KL_05906_18810101_20231231_hist.zip\n"
     ]
    }
   ],
   "source": [
    "# Loop through all the expected ZIP file names and download them\n",
    "for zip_file in zip_files:\n",
    "    download_zip_file(zip_file)\n",
    "jahreswerte_KL_01443_18690101_20231231_hist.zip \n",
    "   "
   ]
  },
  {
   "cell_type": "markdown",
   "id": "7a05773f",
   "metadata": {},
   "source": [
    "#### Verify Downloads"
   ]
  },
  {
   "cell_type": "code",
   "execution_count": 29,
   "id": "70f4efbf",
   "metadata": {},
   "outputs": [
    {
     "name": "stdout",
     "output_type": "stream",
     "text": [
      "jahreswerte_KL_00257_18810101_20231231_hist.zip exists and is ready.\n",
      "jahreswerte_KL_00259_18810101_20231231_hist.zip exists and is ready.\n",
      "jahreswerte_KL_00755_18810101_20231231_hist.zip exists and is ready.\n",
      "jahreswerte_KL_01197_19310101_20231231_hist.zip exists and is ready.\n",
      "jahreswerte_KL_01346_19210101_20231231_hist.zip exists and is ready.\n",
      "jahreswerte_KL_01443_18690101_20240731_hist.zip is missing.\n",
      "jahreswerte_KL_01468_18810101_20231231_hist.zip exists and is ready.\n",
      "jahreswerte_KL_01602_18880101_20231231_hist.zip exists and is ready.\n",
      "jahreswerte_KL_02074_18810101_20231231_hist.zip exists and is ready.\n",
      "jahreswerte_KL_02638_19280101_20231231_hist.zip exists and is ready.\n",
      "jahreswerte_KL_02712_19470101_20231231_hist.zip exists and is ready.\n",
      "jahreswerte_KL_02814_19490101_20231231_hist.zip exists and is ready.\n",
      "jahreswerte_KL_02953_19460101_20231231_hist.zip exists and is ready.\n",
      "jahreswerte_KL_03257_18810101_20220930_hist.zip exists and is ready.\n",
      "jahreswerte_KL_03278_19250101_20231231_hist.zip exists and is ready.\n",
      "jahreswerte_KL_03402_18810101_20231231_hist.zip exists and is ready.\n",
      "jahreswerte_KL_03761_19470101_20231231_hist.zip exists and is ready.\n",
      "jahreswerte_KL_04094_19190101_20231231_hist.zip exists and is ready.\n",
      "jahreswerte_KL_04169_19290101_20231231_hist.zip exists and is ready.\n",
      "jahreswerte_KL_04177_19470101_20231231_hist.zip exists and is ready.\n",
      "jahreswerte_KL_04300_19110101_20231231_hist.zip exists and is ready.\n",
      "jahreswerte_KL_04703_18880101_20231231_hist.zip exists and is ready.\n",
      "jahreswerte_KL_04887_19470101_20231231_hist.zip exists and is ready.\n",
      "jahreswerte_KL_04931_19410101_20231231_hist.zip exists and is ready.\n",
      "jahreswerte_KL_05229_18810101_20231231_hist.zip exists and is ready.\n",
      "jahreswerte_KL_05906_18810101_20231231_hist.zip exists and is ready.\n"
     ]
    }
   ],
   "source": [
    "def verify_downloads(zip_files):\n",
    "    missing_files = []\n",
    "    for file_name in zip_files:\n",
    "        file_path = os.path.join(download_directory, file_name)\n",
    "        if os.path.exists(file_path):\n",
    "            print(f\"{file_name} exists and is ready.\")\n",
    "        else:\n",
    "            print(f\"{file_name} is missing.\")\n",
    "            missing_files.append(file_name)\n",
    "    return missing_files\n",
    "\n",
    "# Run the verification\n",
    "missing_files = verify_downloads(zip_files)"
   ]
  },
  {
   "cell_type": "markdown",
   "id": "0ab56056",
   "metadata": {},
   "source": [
    "#### Handle Missing Data or Errors"
   ]
  },
  {
   "cell_type": "code",
   "execution_count": 30,
   "id": "119fb808",
   "metadata": {},
   "outputs": [
    {
     "name": "stdout",
     "output_type": "stream",
     "text": [
      "Re-attempting download for missing files: ['jahreswerte_KL_01443_18690101_20240731_hist.zip']\n",
      "HTTP error occurred while downloading jahreswerte_KL_01443_18690101_20240731_hist.zip: 404 Client Error: Not Found for url: https://opendata.dwd.de/climate_environment/CDC/observations_germany/climate/annual/kl/historical/jahreswerte_KL_01443_18690101_20240731_hist.zip\n",
      "jahreswerte_KL_01443_18690101_20240731_hist.zip is missing.\n",
      "The following files could not be downloaded and are not present in the dataset:\n",
      "jahreswerte_KL_01443_18690101_20240731_hist.zip\n"
     ]
    }
   ],
   "source": [
    "# Re-attempt download for missing files\n",
    "if missing_files:\n",
    "    print(f\"Re-attempting download for missing files: {missing_files}\")\n",
    "    for file_name in missing_files:\n",
    "        download_zip_file(file_name)\n",
    "    \n",
    "    # Verify again after re-attempting download\n",
    "    still_missing_files = verify_downloads(missing_files)\n",
    "    \n",
    "    if still_missing_files:\n",
    "        print(\"The following files could not be downloaded and are not present in the dataset:\")\n",
    "        for file_name in still_missing_files:\n",
    "            print(file_name)\n",
    "    else:\n",
    "        print(\"All files have been successfully downloaded.\")\n",
    "else:\n",
    "    print(\"All files have been successfully downloaded.\")\n"
   ]
  },
  {
   "cell_type": "markdown",
   "id": "577a7d39",
   "metadata": {},
   "source": [
    "### Sub-Task 1.4:"
   ]
  },
  {
   "cell_type": "markdown",
   "id": "242c0d29",
   "metadata": {},
   "source": [
    "####  Load All ZIP Files from downloaded_data"
   ]
  },
  {
   "cell_type": "code",
   "execution_count": 43,
   "id": "02541052",
   "metadata": {},
   "outputs": [
    {
     "name": "stdout",
     "output_type": "stream",
     "text": [
      "Total no. of available zip files are 25\n",
      "                                            ZIP Files\n",
      "0   downloaded_data\\jahreswerte_KL_00257_18810101_...\n",
      "1   downloaded_data\\jahreswerte_KL_00259_18810101_...\n",
      "2   downloaded_data\\jahreswerte_KL_00755_18810101_...\n",
      "3   downloaded_data\\jahreswerte_KL_01197_19310101_...\n",
      "4   downloaded_data\\jahreswerte_KL_01346_19210101_...\n",
      "5   downloaded_data\\jahreswerte_KL_01468_18810101_...\n",
      "6   downloaded_data\\jahreswerte_KL_01602_18880101_...\n",
      "7   downloaded_data\\jahreswerte_KL_02074_18810101_...\n",
      "8   downloaded_data\\jahreswerte_KL_02638_19280101_...\n",
      "9   downloaded_data\\jahreswerte_KL_02712_19470101_...\n",
      "10  downloaded_data\\jahreswerte_KL_02814_19490101_...\n",
      "11  downloaded_data\\jahreswerte_KL_02953_19460101_...\n",
      "12  downloaded_data\\jahreswerte_KL_03257_18810101_...\n",
      "13  downloaded_data\\jahreswerte_KL_03278_19250101_...\n",
      "14  downloaded_data\\jahreswerte_KL_03402_18810101_...\n",
      "15  downloaded_data\\jahreswerte_KL_03761_19470101_...\n",
      "16  downloaded_data\\jahreswerte_KL_04094_19190101_...\n",
      "17  downloaded_data\\jahreswerte_KL_04169_19290101_...\n",
      "18  downloaded_data\\jahreswerte_KL_04177_19470101_...\n",
      "19  downloaded_data\\jahreswerte_KL_04300_19110101_...\n",
      "20  downloaded_data\\jahreswerte_KL_04703_18880101_...\n",
      "21  downloaded_data\\jahreswerte_KL_04887_19470101_...\n",
      "22  downloaded_data\\jahreswerte_KL_04931_19410101_...\n",
      "23  downloaded_data\\jahreswerte_KL_05229_18810101_...\n",
      "24  downloaded_data\\jahreswerte_KL_05906_18810101_...\n"
     ]
    }
   ],
   "source": [
    "# Directory where the ZIP files are stored\n",
    "downloaded_data_folder = 'downloaded_data'\n",
    "\n",
    "# List all ZIP files in the directory with full paths\n",
    "zip_files = [os.path.join(downloaded_data_folder, file) for file in os.listdir(downloaded_data_folder) if file.endswith('.zip')]\n",
    "\n",
    "# Print the list of ZIP files in a readable table form\n",
    "zip_files_df = pd.DataFrame(zip_files, columns=[\"ZIP Files\"])\n",
    "print(f\"Total no. of available zip files are {len(zip_files_df)}\")\n",
    "print(zip_files_df)"
   ]
  },
  {
   "cell_type": "markdown",
   "id": "667a34b6",
   "metadata": {},
   "source": [
    "#### Function to extract and load data from the ZIP files"
   ]
  },
  {
   "cell_type": "code",
   "execution_count": 48,
   "id": "80eca86e",
   "metadata": {},
   "outputs": [
    {
     "data": {
      "text/html": [
       "<div>\n",
       "<style scoped>\n",
       "    .dataframe tbody tr th:only-of-type {\n",
       "        vertical-align: middle;\n",
       "    }\n",
       "\n",
       "    .dataframe tbody tr th {\n",
       "        vertical-align: top;\n",
       "    }\n",
       "\n",
       "    .dataframe thead th {\n",
       "        text-align: right;\n",
       "    }\n",
       "</style>\n",
       "<table border=\"1\" class=\"dataframe\">\n",
       "  <thead>\n",
       "    <tr style=\"text-align: right;\">\n",
       "      <th></th>\n",
       "      <th>Temperature</th>\n",
       "      <th>Station_ID</th>\n",
       "    </tr>\n",
       "    <tr>\n",
       "      <th>MESS_DATUM_BEGINN</th>\n",
       "      <th></th>\n",
       "      <th></th>\n",
       "    </tr>\n",
       "  </thead>\n",
       "  <tbody>\n",
       "    <tr>\n",
       "      <th>1881-01-01</th>\n",
       "      <td>8.80</td>\n",
       "      <td>00257</td>\n",
       "    </tr>\n",
       "    <tr>\n",
       "      <th>1882-01-01</th>\n",
       "      <td>9.00</td>\n",
       "      <td>00257</td>\n",
       "    </tr>\n",
       "    <tr>\n",
       "      <th>1883-01-01</th>\n",
       "      <td>8.84</td>\n",
       "      <td>00257</td>\n",
       "    </tr>\n",
       "    <tr>\n",
       "      <th>1884-01-01</th>\n",
       "      <td>9.58</td>\n",
       "      <td>00257</td>\n",
       "    </tr>\n",
       "    <tr>\n",
       "      <th>1885-01-01</th>\n",
       "      <td>8.79</td>\n",
       "      <td>00257</td>\n",
       "    </tr>\n",
       "  </tbody>\n",
       "</table>\n",
       "</div>"
      ],
      "text/plain": [
       "                   Temperature Station_ID\n",
       "MESS_DATUM_BEGINN                        \n",
       "1881-01-01                8.80      00257\n",
       "1882-01-01                9.00      00257\n",
       "1883-01-01                8.84      00257\n",
       "1884-01-01                9.58      00257\n",
       "1885-01-01                8.79      00257"
      ]
     },
     "execution_count": 48,
     "metadata": {},
     "output_type": "execute_result"
    }
   ],
   "source": [
    "# Define a function to extract and load data from the ZIP files\n",
    "def load_clean_data_from_zip(zip_file_path):\n",
    "    with zipfile.ZipFile(zip_file_path, 'r') as zip_ref:\n",
    "        # Identify the 'produkt_' file within the ZIP archive\n",
    "        prod_filename = [name for name in zip_ref.namelist() if name.startswith('produkt_')][0]\n",
    "        with zip_ref.open(prod_filename) as f:\n",
    "            # Load the data from the 'produkt_' file\n",
    "            df = pd.read_csv(f, sep=';', na_values='-999', encoding='ISO-8859-1', \n",
    "                             parse_dates=[\"MESS_DATUM_BEGINN\", \"MESS_DATUM_ENDE\"], \n",
    "                             index_col=\"MESS_DATUM_BEGINN\", dtype={\"STATIONS_ID\": str})\n",
    "            # Focus on the JA_TT column for annual mean temperature\n",
    "            df = df[['JA_TT']].rename(columns={'JA_TT': 'Temperature'})\n",
    "            station_id = os.path.basename(zip_file_path).split('_')[2]\n",
    "            df['Station_ID'] = station_id\n",
    "    return df\n",
    "\n",
    "# Load and combine data from all ZIP files\n",
    "all_clean_data = [load_clean_data_from_zip(zip_file) for zip_file in zip_files]\n",
    "combined_clean_df = pd.concat(all_clean_data, ignore_index=False)\n",
    "\n",
    "# Display the first few rows of the combined dataframe\n",
    "combined_clean_df.head()"
   ]
  },
  {
   "cell_type": "markdown",
   "id": "d775f293",
   "metadata": {},
   "source": [
    "#### Calculate the Reference Temperature (1971-2000)"
   ]
  },
  {
   "cell_type": "code",
   "execution_count": 51,
   "id": "af110e85",
   "metadata": {},
   "outputs": [
    {
     "data": {
      "text/plain": [
       "Station_ID\n",
       "00257    9.756897\n",
       "00259    9.952333\n",
       "00755    8.480690\n",
       "01197    8.166667\n",
       "01346    3.630333\n",
       "Name: Temperature, dtype: float64"
      ]
     },
     "execution_count": 51,
     "metadata": {},
     "output_type": "execute_result"
    }
   ],
   "source": [
    "# Filter data to the reference period (1971-2000)\n",
    "reference_period = combined_clean_df.loc['1971-01-01':'2000-12-31']\n",
    "\n",
    "# Calculate the mean temperature during the reference period for each station\n",
    "reference_temps = reference_period.groupby('Station_ID')['Temperature'].mean()\n",
    "\n",
    "# Display the reference temperatures for the first few station\n",
    "reference_temps.head()"
   ]
  },
  {
   "cell_type": "markdown",
   "id": "5e075258",
   "metadata": {},
   "source": [
    "#### Calculate the Temperature Deviation from the Reference Period"
   ]
  },
  {
   "cell_type": "code",
   "execution_count": 54,
   "id": "86dcef1c",
   "metadata": {},
   "outputs": [
    {
     "data": {
      "text/html": [
       "<div>\n",
       "<style scoped>\n",
       "    .dataframe tbody tr th:only-of-type {\n",
       "        vertical-align: middle;\n",
       "    }\n",
       "\n",
       "    .dataframe tbody tr th {\n",
       "        vertical-align: top;\n",
       "    }\n",
       "\n",
       "    .dataframe thead th {\n",
       "        text-align: right;\n",
       "    }\n",
       "</style>\n",
       "<table border=\"1\" class=\"dataframe\">\n",
       "  <thead>\n",
       "    <tr style=\"text-align: right;\">\n",
       "      <th></th>\n",
       "      <th>Temperature</th>\n",
       "      <th>Station_ID</th>\n",
       "      <th>Deviation</th>\n",
       "    </tr>\n",
       "    <tr>\n",
       "      <th>MESS_DATUM_BEGINN</th>\n",
       "      <th></th>\n",
       "      <th></th>\n",
       "      <th></th>\n",
       "    </tr>\n",
       "  </thead>\n",
       "  <tbody>\n",
       "    <tr>\n",
       "      <th>1881-01-01</th>\n",
       "      <td>8.80</td>\n",
       "      <td>00257</td>\n",
       "      <td>-0.956897</td>\n",
       "    </tr>\n",
       "    <tr>\n",
       "      <th>1882-01-01</th>\n",
       "      <td>9.00</td>\n",
       "      <td>00257</td>\n",
       "      <td>-0.756897</td>\n",
       "    </tr>\n",
       "    <tr>\n",
       "      <th>1883-01-01</th>\n",
       "      <td>8.84</td>\n",
       "      <td>00257</td>\n",
       "      <td>-0.916897</td>\n",
       "    </tr>\n",
       "    <tr>\n",
       "      <th>1884-01-01</th>\n",
       "      <td>9.58</td>\n",
       "      <td>00257</td>\n",
       "      <td>-0.176897</td>\n",
       "    </tr>\n",
       "    <tr>\n",
       "      <th>1885-01-01</th>\n",
       "      <td>8.79</td>\n",
       "      <td>00257</td>\n",
       "      <td>-0.966897</td>\n",
       "    </tr>\n",
       "  </tbody>\n",
       "</table>\n",
       "</div>"
      ],
      "text/plain": [
       "                   Temperature Station_ID  Deviation\n",
       "MESS_DATUM_BEGINN                                   \n",
       "1881-01-01                8.80      00257  -0.956897\n",
       "1882-01-01                9.00      00257  -0.756897\n",
       "1883-01-01                8.84      00257  -0.916897\n",
       "1884-01-01                9.58      00257  -0.176897\n",
       "1885-01-01                8.79      00257  -0.966897"
      ]
     },
     "execution_count": 54,
     "metadata": {},
     "output_type": "execute_result"
    }
   ],
   "source": [
    "# Ensure that Station_IDs are consistently formatted as 5-digit strings\n",
    "combined_clean_df['Station_ID'] = combined_clean_df['Station_ID'].apply(lambda x: x.zfill(5))\n",
    "reference_temps.index = reference_temps.index.str.zfill(5)\n",
    "\n",
    "# Calculate the temperature deviation from the reference period for each year\n",
    "combined_clean_df['Deviation'] = combined_clean_df.apply(\n",
    "    lambda row: row['Temperature'] - reference_temps.get(row['Station_ID'], float('nan')), axis=1\n",
    ")\n",
    "\n",
    "# Display the first few rows of the DataFrame with the calculated deviations\n",
    "combined_clean_df.head()\n"
   ]
  },
  {
   "cell_type": "markdown",
   "id": "2d5e336d",
   "metadata": {},
   "source": [
    "#### Filter the Data to Include Only Years from 1950 to 2022"
   ]
  },
  {
   "cell_type": "code",
   "execution_count": 55,
   "id": "dc51a456",
   "metadata": {},
   "outputs": [
    {
     "name": "stdout",
     "output_type": "stream",
     "text": [
      "                   Temperature Station_ID  Deviation\n",
      "MESS_DATUM_BEGINN                                   \n",
      "1950-01-01                9.93      00257   0.173103\n",
      "1951-01-01               10.05      00257   0.293103\n",
      "1952-01-01                9.88      00257   0.123103\n",
      "1953-01-01                9.92      00257   0.163103\n",
      "1954-01-01                9.38      00257  -0.376897\n"
     ]
    }
   ],
   "source": [
    "# Filter the data to include only the years from 1950 to 2022\n",
    "filtered_df = combined_clean_df.loc['1950-01-01':'2022-12-31']\n",
    "\n",
    "# Display the first few rows of the filtered DataFrame to ensure correctness\n",
    "print(filtered_df.head())\n"
   ]
  },
  {
   "cell_type": "markdown",
   "id": "5e61c276",
   "metadata": {},
   "source": [
    "#### Plot Warming Stripes"
   ]
  },
  {
   "cell_type": "code",
   "execution_count": 57,
   "id": "ea9cf843",
   "metadata": {},
   "outputs": [
    {
     "data": {
      "image/png": "[encoded data removed]",
      "text/plain": [
       "<Figure size 1600x800 with 2 Axes>"
      ]
     },
     "metadata": {},
     "output_type": "display_data"
    }
   ],
   "source": [
    "# Step 1: Pivot the data for heatmap plotting\n",
    "heatmap_data = filtered_df.pivot_table(index=filtered_df.index.year, columns='Station_ID', values='Deviation')\n",
    "\n",
    "# Step 2: Plot warming stripes with adjustments for readability\n",
    "plt.figure(figsize=(16, 8))  # Increase figure size for better readability\n",
    "sns.heatmap(data=heatmap_data.T, cmap=\"coolwarm\", annot=False, \n",
    "            cbar_kws={'label': 'Temperature Deviation (°C)'}, \n",
    "            linewidths=0.5, linecolor='gray')  # Add lines between cells for clarity\n",
    "plt.title(\"Warming Stripes for Selected Stations (1950-2022)\", fontsize=16)\n",
    "plt.xlabel(\"Year\", fontsize=14)\n",
    "plt.ylabel(\"Station ID\", fontsize=14)\n",
    "plt.xticks(rotation=45, ha='right')  # Rotate the x-axis labels for better readability\n",
    "plt.tight_layout()  # Ensure everything fits within the figure area\n",
    "plt.show()\n"
   ]
  },
  {
   "cell_type": "code",
   "execution_count": null,
   "id": "459a2baf",
   "metadata": {},
   "outputs": [],
   "source": []
  }
 ],
 "metadata": {
  "kernelspec": {
   "display_name": "Python 3 (ipykernel)",
   "language": "python",
   "name": "python3"
  },
  "language_info": {
   "codemirror_mode": {
    "name": "ipython",
    "version": 3
   },
   "file_extension": ".py",
   "mimetype": "text/x-python",
   "name": "python",
   "nbconvert_exporter": "python",
   "pygments_lexer": "ipython3",
   "version": "3.10.9"
  }
 },
 "nbformat": 4,
 "nbformat_minor": 5
}
